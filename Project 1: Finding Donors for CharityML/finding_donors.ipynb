{
 "cells": [
  {
   "cell_type": "markdown",
   "metadata": {},
   "source": [
    "# Data Scientist Nanodegree\n",
    "## Supervised Learning\n",
    "## Project: Finding Donors for *CharityML*"
   ]
  },
  {
   "cell_type": "markdown",
   "metadata": {},
   "source": [
    "Welcome to the first project of the Data Scientist Nanodegree! In this notebook, some template code has already been provided for you, and it will be your job to implement the additional functionality necessary to successfully complete this project. Sections that begin with **'Implementation'** in the header indicate that the following block of code will require additional functionality which you must provide. Instructions will be provided for each section and the specifics of the implementation are marked in the code block with a `'TODO'` statement. Please be sure to read the instructions carefully!\n",
    "\n",
    "In addition to implementing code, there will be questions that you must answer which relate to the project and your implementation. Each section where you will answer a question is preceded by a **'Question X'** header. Carefully read each question and provide thorough answers in the following text boxes that begin with **'Answer:'**. Your project submission will be evaluated based on your answers to each of the questions and the implementation you provide.  \n",
    "\n",
    ">**Note:** Please specify WHICH VERSION OF PYTHON you are using when submitting this notebook. Code and Markdown cells can be executed using the **Shift + Enter** keyboard shortcut. In addition, Markdown cells can be edited by typically double-clicking the cell to enter edit mode."
   ]
  },
  {
   "cell_type": "markdown",
   "metadata": {},
   "source": [
    "## Getting Started\n",
    "\n",
    "In this project, you will employ several supervised algorithms of your choice to accurately model individuals' income using data collected from the 1994 U.S. Census. You will then choose the best candidate algorithm from preliminary results and further optimize this algorithm to best model the data. Your goal with this implementation is to construct a model that accurately predicts whether an individual makes more than $50,000. This sort of task can arise in a non-profit setting, where organizations survive on donations.  Understanding an individual's income can help a non-profit better understand how large of a donation to request, or whether or not they should reach out to begin with.  While it can be difficult to determine an individual's general income bracket directly from public sources, we can (as we will see) infer this value from other publically available features. \n",
    "\n",
    "The dataset for this project originates from the [UCI Machine Learning Repository](https://archive.ics.uci.edu/ml/datasets/Census+Income). The datset was donated by Ron Kohavi and Barry Becker, after being published in the article _\"Scaling Up the Accuracy of Naive-Bayes Classifiers: A Decision-Tree Hybrid\"_. You can find the article by Ron Kohavi [online](https://www.aaai.org/Papers/KDD/1996/KDD96-033.pdf). The data we investigate here consists of small changes to the original dataset, such as removing the `'fnlwgt'` feature and records with missing or ill-formatted entries."
   ]
  },
  {
   "cell_type": "markdown",
   "metadata": {},
   "source": [
    "----\n",
    "## Exploring the Data\n",
    "Run the code cell below to load necessary Python libraries and load the census data. Note that the last column from this dataset, `'income'`, will be our target label (whether an individual makes more than, or at most, $50,000 annually). All other columns are features about each individual in the census database."
   ]
  },
  {
   "cell_type": "code",
   "execution_count": 2,
   "metadata": {},
   "outputs": [
    {
     "data": {
      "text/html": [
       "<div>\n",
       "<style scoped>\n",
       "    .dataframe tbody tr th:only-of-type {\n",
       "        vertical-align: middle;\n",
       "    }\n",
       "\n",
       "    .dataframe tbody tr th {\n",
       "        vertical-align: top;\n",
       "    }\n",
       "\n",
       "    .dataframe thead th {\n",
       "        text-align: right;\n",
       "    }\n",
       "</style>\n",
       "<table border=\"1\" class=\"dataframe\">\n",
       "  <thead>\n",
       "    <tr style=\"text-align: right;\">\n",
       "      <th></th>\n",
       "      <th>age</th>\n",
       "      <th>workclass</th>\n",
       "      <th>education_level</th>\n",
       "      <th>education-num</th>\n",
       "      <th>marital-status</th>\n",
       "      <th>occupation</th>\n",
       "      <th>relationship</th>\n",
       "      <th>race</th>\n",
       "      <th>sex</th>\n",
       "      <th>capital-gain</th>\n",
       "      <th>capital-loss</th>\n",
       "      <th>hours-per-week</th>\n",
       "      <th>native-country</th>\n",
       "      <th>income</th>\n",
       "    </tr>\n",
       "  </thead>\n",
       "  <tbody>\n",
       "    <tr>\n",
       "      <th>0</th>\n",
       "      <td>39</td>\n",
       "      <td>State-gov</td>\n",
       "      <td>Bachelors</td>\n",
       "      <td>13.0</td>\n",
       "      <td>Never-married</td>\n",
       "      <td>Adm-clerical</td>\n",
       "      <td>Not-in-family</td>\n",
       "      <td>White</td>\n",
       "      <td>Male</td>\n",
       "      <td>2174.0</td>\n",
       "      <td>0.0</td>\n",
       "      <td>40.0</td>\n",
       "      <td>United-States</td>\n",
       "      <td>&lt;=50K</td>\n",
       "    </tr>\n",
       "  </tbody>\n",
       "</table>\n",
       "</div>"
      ],
      "text/plain": [
       "   age   workclass education_level  education-num  marital-status  \\\n",
       "0   39   State-gov       Bachelors           13.0   Never-married   \n",
       "\n",
       "      occupation    relationship    race    sex  capital-gain  capital-loss  \\\n",
       "0   Adm-clerical   Not-in-family   White   Male        2174.0           0.0   \n",
       "\n",
       "   hours-per-week  native-country income  \n",
       "0            40.0   United-States  <=50K  "
      ]
     },
     "metadata": {},
     "output_type": "display_data"
    }
   ],
   "source": [
    "# Import libraries necessary for this project\n",
    "%matplotlib inline\n",
    "import matplotlib.pyplot as plt\n",
    "import numpy as np\n",
    "import pandas as pd\n",
    "from time import time\n",
    "from IPython.display import display # Allows the use of display() for DataFrames\n",
    "\n",
    "# Import supplementary visualization code visuals.py\n",
    "import visuals as vs\n",
    "\n",
    "# Pretty display for notebooks\n",
    "%matplotlib inline\n",
    "\n",
    "# Load the Census dataset\n",
    "data = pd.read_csv(\"census.csv\")\n",
    "\n",
    "# Success - Display the first record\n",
    "display(data.head(n=1))"
   ]
  },
  {
   "cell_type": "markdown",
   "metadata": {},
   "source": [
    "### Implementation: Data Exploration\n",
    "A cursory investigation of the dataset will determine how many individuals fit into either group, and will tell us about the percentage of these individuals making more than \\$50,000. In the code cell below, you will need to compute the following:\n",
    "- The total number of records, `'n_records'`\n",
    "- The number of individuals making more than \\$50,000 annually, `'n_greater_50k'`.\n",
    "- The number of individuals making at most \\$50,000 annually, `'n_at_most_50k'`.\n",
    "- The percentage of individuals making more than \\$50,000 annually, `'greater_percent'`.\n",
    "\n",
    "** HINT: ** You may need to look at the table above to understand how the `'income'` entries are formatted. "
   ]
  },
  {
   "cell_type": "code",
   "execution_count": 3,
   "metadata": {},
   "outputs": [
    {
     "name": "stdout",
     "output_type": "stream",
     "text": [
      "Total number of records: 45222\n",
      "Individuals making more than $50,000: 11208\n",
      "Individuals making at most $50,000: 34014\n",
      "Percentage of individuals making more than $50,000: 24.8%\n"
     ]
    }
   ],
   "source": [
    "# Total number of records\n",
    "n_records = len(data)\n",
    "\n",
    "# Number of records where individual's income is more than $50,000\n",
    "n_greater_50k = (data['income'] == '>50K').sum()\n",
    "\n",
    "# Number of records where individual's income is at most $50,000\n",
    "n_at_most_50k = (data['income'] == '<=50K').sum()\n",
    "\n",
    "# Percentage of individuals whose income is more than $50,000\n",
    "greater_percent = (data['income'] == '>50K').mean()\n",
    "\n",
    "# Print the results\n",
    "print(\"Total number of records: {}\".format(n_records))\n",
    "print(\"Individuals making more than $50,000: {}\".format(n_greater_50k))\n",
    "print(\"Individuals making at most $50,000: {}\".format(n_at_most_50k))\n",
    "print(\"Percentage of individuals making more than $50,000: {:.1f}%\".format(greater_percent *100))"
   ]
  },
  {
   "cell_type": "markdown",
   "metadata": {},
   "source": [
    "** Featureset Exploration **\n",
    "\n",
    "* **age**: continuous. \n",
    "* **workclass**: Private, Self-emp-not-inc, Self-emp-inc, Federal-gov, Local-gov, State-gov, Without-pay, Never-worked. \n",
    "* **education**: Bachelors, Some-college, 11th, HS-grad, Prof-school, Assoc-acdm, Assoc-voc, 9th, 7th-8th, 12th, Masters, 1st-4th, 10th, Doctorate, 5th-6th, Preschool. \n",
    "* **education-num**: continuous. \n",
    "* **marital-status**: Married-civ-spouse, Divorced, Never-married, Separated, Widowed, Married-spouse-absent, Married-AF-spouse. \n",
    "* **occupation**: Tech-support, Craft-repair, Other-service, Sales, Exec-managerial, Prof-specialty, Handlers-cleaners, Machine-op-inspct, Adm-clerical, Farming-fishing, Transport-moving, Priv-house-serv, Protective-serv, Armed-Forces. \n",
    "* **relationship**: Wife, Own-child, Husband, Not-in-family, Other-relative, Unmarried. \n",
    "* **race**: Black, White, Asian-Pac-Islander, Amer-Indian-Eskimo, Other. \n",
    "* **sex**: Female, Male. \n",
    "* **capital-gain**: continuous. \n",
    "* **capital-loss**: continuous. \n",
    "* **hours-per-week**: continuous. \n",
    "* **native-country**: United-States, Cambodia, England, Puerto-Rico, Canada, Germany, Outlying-US(Guam-USVI-etc), India, Japan, Greece, South, China, Cuba, Iran, Honduras, Philippines, Italy, Poland, Jamaica, Vietnam, Mexico, Portugal, Ireland, France, Dominican-Republic, Laos, Ecuador, Taiwan, Haiti, Columbia, Hungary, Guatemala, Nicaragua, Scotland, Thailand, Yugoslavia, El-Salvador, Trinadad&Tobago, Peru, Hong, Holand-Netherlands."
   ]
  },
  {
   "cell_type": "markdown",
   "metadata": {},
   "source": [
    "----\n",
    "## Preparing the Data\n",
    "Before data can be used as input for machine learning algorithms, it often must be cleaned, formatted, and restructured — this is typically known as **preprocessing**. Fortunately, for this dataset, there are no invalid or missing entries we must deal with, however, there are some qualities about certain features that must be adjusted. This preprocessing can help tremendously with the outcome and predictive power of nearly all learning algorithms."
   ]
  },
  {
   "cell_type": "markdown",
   "metadata": {},
   "source": [
    "### Transforming Skewed Continuous Features\n",
    "A dataset may sometimes contain at least one feature whose values tend to lie near a single number, but will also have a non-trivial number of vastly larger or smaller values than that single number.  Algorithms can be sensitive to such distributions of values and can underperform if the range is not properly normalized. With the census dataset two features fit this description: '`capital-gain'` and `'capital-loss'`. \n",
    "\n",
    "Run the code cell below to plot a histogram of these two features. Note the range of the values present and how they are distributed."
   ]
  },
  {
   "cell_type": "code",
   "execution_count": 4,
   "metadata": {},
   "outputs": [
    {
     "data": {
      "image/png": "[encoded data removed]",
      "text/plain": [
       "<matplotlib.figure.Figure at 0x7f0aac129a20>"
      ]
     },
     "metadata": {
      "needs_background": "light"
     },
     "output_type": "display_data"
    }
   ],
   "source": [
    "# Split the data into features and target label\n",
    "income_raw = data['income']\n",
    "features_raw = data.drop('income', axis = 1)\n",
    "\n",
    "# Visualize skewed continuous features of original data\n",
    "vs.distribution(data)"
   ]
  },
  {
   "cell_type": "markdown",
   "metadata": {},
   "source": [
    "For highly-skewed feature distributions such as `'capital-gain'` and `'capital-loss'`, it is common practice to apply a <a href=\"https://en.wikipedia.org/wiki/Data_transformation_(statistics)\">logarithmic transformation</a> on the data so that the very large and very small values do not negatively affect the performance of a learning algorithm. Using a logarithmic transformation significantly reduces the range of values caused by outliers. Care must be taken when applying this transformation however: The logarithm of `0` is undefined, so we must translate the values by a small amount above `0` to apply the the logarithm successfully.\n",
    "\n",
    "Run the code cell below to perform a transformation on the data and visualize the results. Again, note the range of values and how they are distributed. "
   ]
  },
  {
   "cell_type": "code",
   "execution_count": 5,
   "metadata": {},
   "outputs": [
    {
     "data": {
      "image/png": "[encoded data removed]",
      "text/plain": [
       "<matplotlib.figure.Figure at 0x7f0aac1a16a0>"
      ]
     },
     "metadata": {
      "needs_background": "light"
     },
     "output_type": "display_data"
    }
   ],
   "source": [
    "# Log-transform the skewed features\n",
    "skewed = ['capital-gain', 'capital-loss']\n",
    "features_log_transformed = pd.DataFrame(data = features_raw)\n",
    "features_log_transformed[skewed] = features_raw[skewed].apply(lambda x: np.log(x + 1))\n",
    "\n",
    "# Visualize the new log distributions\n",
    "vs.distribution(features_log_transformed, transformed = True)"
   ]
  },
  {
   "cell_type": "markdown",
   "metadata": {},
   "source": [
    "### Normalizing Numerical Features\n",
    "In addition to performing transformations on features that are highly skewed, it is often good practice to perform some type of scaling on numerical features. Applying a scaling to the data does not change the shape of each feature's distribution (such as `'capital-gain'` or `'capital-loss'` above); however, normalization ensures that each feature is treated equally when applying supervised learners. Note that once scaling is applied, observing the data in its raw form will no longer have the same original meaning, as exampled below.\n",
    "\n",
    "Run the code cell below to normalize each numerical feature. We will use [`sklearn.preprocessing.MinMaxScaler`](http://scikit-learn.org/stable/modules/generated/sklearn.preprocessing.MinMaxScaler.html) for this."
   ]
  },
  {
   "cell_type": "code",
   "execution_count": 6,
   "metadata": {},
   "outputs": [
    {
     "data": {
      "text/html": [
       "<div>\n",
       "<style scoped>\n",
       "    .dataframe tbody tr th:only-of-type {\n",
       "        vertical-align: middle;\n",
       "    }\n",
       "\n",
       "    .dataframe tbody tr th {\n",
       "        vertical-align: top;\n",
       "    }\n",
       "\n",
       "    .dataframe thead th {\n",
       "        text-align: right;\n",
       "    }\n",
       "</style>\n",
       "<table border=\"1\" class=\"dataframe\">\n",
       "  <thead>\n",
       "    <tr style=\"text-align: right;\">\n",
       "      <th></th>\n",
       "      <th>age</th>\n",
       "      <th>workclass</th>\n",
       "      <th>education_level</th>\n",
       "      <th>education-num</th>\n",
       "      <th>marital-status</th>\n",
       "      <th>occupation</th>\n",
       "      <th>relationship</th>\n",
       "      <th>race</th>\n",
       "      <th>sex</th>\n",
       "      <th>capital-gain</th>\n",
       "      <th>capital-loss</th>\n",
       "      <th>hours-per-week</th>\n",
       "      <th>native-country</th>\n",
       "    </tr>\n",
       "  </thead>\n",
       "  <tbody>\n",
       "    <tr>\n",
       "      <th>0</th>\n",
       "      <td>0.301370</td>\n",
       "      <td>State-gov</td>\n",
       "      <td>Bachelors</td>\n",
       "      <td>0.800000</td>\n",
       "      <td>Never-married</td>\n",
       "      <td>Adm-clerical</td>\n",
       "      <td>Not-in-family</td>\n",
       "      <td>White</td>\n",
       "      <td>Male</td>\n",
       "      <td>0.667492</td>\n",
       "      <td>0.0</td>\n",
       "      <td>0.397959</td>\n",
       "      <td>United-States</td>\n",
       "    </tr>\n",
       "    <tr>\n",
       "      <th>1</th>\n",
       "      <td>0.452055</td>\n",
       "      <td>Self-emp-not-inc</td>\n",
       "      <td>Bachelors</td>\n",
       "      <td>0.800000</td>\n",
       "      <td>Married-civ-spouse</td>\n",
       "      <td>Exec-managerial</td>\n",
       "      <td>Husband</td>\n",
       "      <td>White</td>\n",
       "      <td>Male</td>\n",
       "      <td>0.000000</td>\n",
       "      <td>0.0</td>\n",
       "      <td>0.122449</td>\n",
       "      <td>United-States</td>\n",
       "    </tr>\n",
       "    <tr>\n",
       "      <th>2</th>\n",
       "      <td>0.287671</td>\n",
       "      <td>Private</td>\n",
       "      <td>HS-grad</td>\n",
       "      <td>0.533333</td>\n",
       "      <td>Divorced</td>\n",
       "      <td>Handlers-cleaners</td>\n",
       "      <td>Not-in-family</td>\n",
       "      <td>White</td>\n",
       "      <td>Male</td>\n",
       "      <td>0.000000</td>\n",
       "      <td>0.0</td>\n",
       "      <td>0.397959</td>\n",
       "      <td>United-States</td>\n",
       "    </tr>\n",
       "    <tr>\n",
       "      <th>3</th>\n",
       "      <td>0.493151</td>\n",
       "      <td>Private</td>\n",
       "      <td>11th</td>\n",
       "      <td>0.400000</td>\n",
       "      <td>Married-civ-spouse</td>\n",
       "      <td>Handlers-cleaners</td>\n",
       "      <td>Husband</td>\n",
       "      <td>Black</td>\n",
       "      <td>Male</td>\n",
       "      <td>0.000000</td>\n",
       "      <td>0.0</td>\n",
       "      <td>0.397959</td>\n",
       "      <td>United-States</td>\n",
       "    </tr>\n",
       "    <tr>\n",
       "      <th>4</th>\n",
       "      <td>0.150685</td>\n",
       "      <td>Private</td>\n",
       "      <td>Bachelors</td>\n",
       "      <td>0.800000</td>\n",
       "      <td>Married-civ-spouse</td>\n",
       "      <td>Prof-specialty</td>\n",
       "      <td>Wife</td>\n",
       "      <td>Black</td>\n",
       "      <td>Female</td>\n",
       "      <td>0.000000</td>\n",
       "      <td>0.0</td>\n",
       "      <td>0.397959</td>\n",
       "      <td>Cuba</td>\n",
       "    </tr>\n",
       "  </tbody>\n",
       "</table>\n",
       "</div>"
      ],
      "text/plain": [
       "        age          workclass education_level  education-num  \\\n",
       "0  0.301370          State-gov       Bachelors       0.800000   \n",
       "1  0.452055   Self-emp-not-inc       Bachelors       0.800000   \n",
       "2  0.287671            Private         HS-grad       0.533333   \n",
       "3  0.493151            Private            11th       0.400000   \n",
       "4  0.150685            Private       Bachelors       0.800000   \n",
       "\n",
       "        marital-status          occupation    relationship    race      sex  \\\n",
       "0        Never-married        Adm-clerical   Not-in-family   White     Male   \n",
       "1   Married-civ-spouse     Exec-managerial         Husband   White     Male   \n",
       "2             Divorced   Handlers-cleaners   Not-in-family   White     Male   \n",
       "3   Married-civ-spouse   Handlers-cleaners         Husband   Black     Male   \n",
       "4   Married-civ-spouse      Prof-specialty            Wife   Black   Female   \n",
       "\n",
       "   capital-gain  capital-loss  hours-per-week  native-country  \n",
       "0      0.667492           0.0        0.397959   United-States  \n",
       "1      0.000000           0.0        0.122449   United-States  \n",
       "2      0.000000           0.0        0.397959   United-States  \n",
       "3      0.000000           0.0        0.397959   United-States  \n",
       "4      0.000000           0.0        0.397959            Cuba  "
      ]
     },
     "metadata": {},
     "output_type": "display_data"
    }
   ],
   "source": [
    "# Import sklearn.preprocessing.StandardScaler\n",
    "from sklearn.preprocessing import MinMaxScaler\n",
    "\n",
    "# Initialize a scaler, then apply it to the features\n",
    "scaler = MinMaxScaler() # default=(0, 1)\n",
    "numerical = ['age', 'education-num', 'capital-gain', 'capital-loss', 'hours-per-week']\n",
    "\n",
    "features_log_minmax_transform = pd.DataFrame(data = features_log_transformed)\n",
    "features_log_minmax_transform[numerical] = scaler.fit_transform(features_log_transformed[numerical])\n",
    "\n",
    "# Show an example of a record with scaling applied\n",
    "display(features_log_minmax_transform.head(n = 5))"
   ]
  },
  {
   "cell_type": "markdown",
   "metadata": {},
   "source": [
    "### Implementation: Data Preprocessing\n",
    "\n",
    "From the table in **Exploring the Data** above, we can see there are several features for each record that are non-numeric. Typically, learning algorithms expect input to be numeric, which requires that non-numeric features (called *categorical variables*) be converted. One popular way to convert categorical variables is by using the **one-hot encoding** scheme. One-hot encoding creates a _\"dummy\"_ variable for each possible category of each non-numeric feature. For example, assume `someFeature` has three possible entries: `A`, `B`, or `C`. We then encode this feature into `someFeature_A`, `someFeature_B` and `someFeature_C`.\n",
    "\n",
    "|   | someFeature |                    | someFeature_A | someFeature_B | someFeature_C |\n",
    "| :-: | :-: |                            | :-: | :-: | :-: |\n",
    "| 0 |  B  |  | 0 | 1 | 0 |\n",
    "| 1 |  C  | ----> one-hot encode ----> | 0 | 0 | 1 |\n",
    "| 2 |  A  |  | 1 | 0 | 0 |\n",
    "\n",
    "Additionally, as with the non-numeric features, we need to convert the non-numeric target label, `'income'` to numerical values for the learning algorithm to work. Since there are only two possible categories for this label (\"<=50K\" and \">50K\"), we can avoid using one-hot encoding and simply encode these two categories as `0` and `1`, respectively. In code cell below, you will need to implement the following:\n",
    " - Use [`pandas.get_dummies()`](http://pandas.pydata.org/pandas-docs/stable/generated/pandas.get_dummies.html?highlight=get_dummies#pandas.get_dummies) to perform one-hot encoding on the `'features_log_minmax_transform'` data.\n",
    " - Convert the target label `'income_raw'` to numerical entries.\n",
    "   - Set records with \"<=50K\" to `0` and records with \">50K\" to `1`."
   ]
  },
  {
   "cell_type": "code",
   "execution_count": 7,
   "metadata": {
    "scrolled": true
   },
   "outputs": [
    {
     "name": "stdout",
     "output_type": "stream",
     "text": [
      "103 total features after one-hot encoding.\n",
      "['age', 'education-num', 'capital-gain', 'capital-loss', 'hours-per-week', 'workclass_ Federal-gov', 'workclass_ Local-gov', 'workclass_ Private', 'workclass_ Self-emp-inc', 'workclass_ Self-emp-not-inc', 'workclass_ State-gov', 'workclass_ Without-pay', 'education_level_ 10th', 'education_level_ 11th', 'education_level_ 12th', 'education_level_ 1st-4th', 'education_level_ 5th-6th', 'education_level_ 7th-8th', 'education_level_ 9th', 'education_level_ Assoc-acdm', 'education_level_ Assoc-voc', 'education_level_ Bachelors', 'education_level_ Doctorate', 'education_level_ HS-grad', 'education_level_ Masters', 'education_level_ Preschool', 'education_level_ Prof-school', 'education_level_ Some-college', 'marital-status_ Divorced', 'marital-status_ Married-AF-spouse', 'marital-status_ Married-civ-spouse', 'marital-status_ Married-spouse-absent', 'marital-status_ Never-married', 'marital-status_ Separated', 'marital-status_ Widowed', 'occupation_ Adm-clerical', 'occupation_ Armed-Forces', 'occupation_ Craft-repair', 'occupation_ Exec-managerial', 'occupation_ Farming-fishing', 'occupation_ Handlers-cleaners', 'occupation_ Machine-op-inspct', 'occupation_ Other-service', 'occupation_ Priv-house-serv', 'occupation_ Prof-specialty', 'occupation_ Protective-serv', 'occupation_ Sales', 'occupation_ Tech-support', 'occupation_ Transport-moving', 'relationship_ Husband', 'relationship_ Not-in-family', 'relationship_ Other-relative', 'relationship_ Own-child', 'relationship_ Unmarried', 'relationship_ Wife', 'race_ Amer-Indian-Eskimo', 'race_ Asian-Pac-Islander', 'race_ Black', 'race_ Other', 'race_ White', 'sex_ Female', 'sex_ Male', 'native-country_ Cambodia', 'native-country_ Canada', 'native-country_ China', 'native-country_ Columbia', 'native-country_ Cuba', 'native-country_ Dominican-Republic', 'native-country_ Ecuador', 'native-country_ El-Salvador', 'native-country_ England', 'native-country_ France', 'native-country_ Germany', 'native-country_ Greece', 'native-country_ Guatemala', 'native-country_ Haiti', 'native-country_ Holand-Netherlands', 'native-country_ Honduras', 'native-country_ Hong', 'native-country_ Hungary', 'native-country_ India', 'native-country_ Iran', 'native-country_ Ireland', 'native-country_ Italy', 'native-country_ Jamaica', 'native-country_ Japan', 'native-country_ Laos', 'native-country_ Mexico', 'native-country_ Nicaragua', 'native-country_ Outlying-US(Guam-USVI-etc)', 'native-country_ Peru', 'native-country_ Philippines', 'native-country_ Poland', 'native-country_ Portugal', 'native-country_ Puerto-Rico', 'native-country_ Scotland', 'native-country_ South', 'native-country_ Taiwan', 'native-country_ Thailand', 'native-country_ Trinadad&Tobago', 'native-country_ United-States', 'native-country_ Vietnam', 'native-country_ Yugoslavia']\n"
     ]
    }
   ],
   "source": [
    "# One-hot encode the 'features_log_minmax_transform' data using pandas.get_dummies()\n",
    "features_final = pd.get_dummies(features_log_minmax_transform)\n",
    "\n",
    "# Encode the 'income_raw' data to numerical values\n",
    "income = data['income'].map({'<=50K':0, '>50K':1})\n",
    "\n",
    "# Print the number of features after one-hot encoding\n",
    "encoded = list(features_final.columns)\n",
    "print(\"{} total features after one-hot encoding.\".format(len(encoded)))\n",
    "\n",
    "# Uncomment the following line to see the encoded feature names\n",
    "print(encoded)"
   ]
  },
  {
   "cell_type": "markdown",
   "metadata": {},
   "source": [
    "### Shuffle and Split Data\n",
    "Now all _categorical variables_ have been converted into numerical features, and all numerical features have been normalized. As always, we will now split the data (both features and their labels) into training and test sets. 80% of the data will be used for training and 20% for testing.\n",
    "\n",
    "Run the code cell below to perform this split."
   ]
  },
  {
   "cell_type": "code",
   "execution_count": 8,
   "metadata": {},
   "outputs": [
    {
     "name": "stdout",
     "output_type": "stream",
     "text": [
      "Training set has 36177 samples.\n",
      "Testing set has 9045 samples.\n"
     ]
    }
   ],
   "source": [
    "# Import train_test_split\n",
    "from sklearn.model_selection import train_test_split\n",
    "\n",
    "# Split the 'features' and 'income' data into training and testing sets\n",
    "X_train, X_test, y_train, y_test = train_test_split(features_final, \n",
    "                                                    income, \n",
    "                                                    test_size = 0.2, \n",
    "                                                    random_state = 0)\n",
    "\n",
    "# Show the results of the split\n",
    "print(\"Training set has {} samples.\".format(X_train.shape[0]))\n",
    "print(\"Testing set has {} samples.\".format(X_test.shape[0]))"
   ]
  },
  {
   "cell_type": "markdown",
   "metadata": {},
   "source": [
    "----\n",
    "## Evaluating Model Performance\n",
    "In this section, we will investigate four different algorithms, and determine which is best at modeling the data. Three of these algorithms will be supervised learners of your choice, and the fourth algorithm is known as a *naive predictor*."
   ]
  },
  {
   "cell_type": "markdown",
   "metadata": {},
   "source": [
    "### Metrics and the Naive Predictor\n",
    "*CharityML*, equipped with their research, knows individuals that make more than \\$50,000 are most likely to donate to their charity. Because of this, *CharityML* is particularly interested in predicting who makes more than \\$50,000 accurately. It would seem that using **accuracy** as a metric for evaluating a particular model's performace would be appropriate. Additionally, identifying someone that *does not* make more than \\$50,000 as someone who does would be detrimental to *CharityML*, since they are looking to find individuals willing to donate. Therefore, a model's ability to precisely predict those that make more than \\$50,000 is *more important* than the model's ability to **recall** those individuals. We can use **F-beta score** as a metric that considers both precision and recall:\n",
    "\n",
    "$$ F_{\\beta} = (1 + \\beta^2) \\cdot \\frac{precision \\cdot recall}{\\left( \\beta^2 \\cdot precision \\right) + recall} $$\n",
    "\n",
    "In particular, when $\\beta = 0.5$, more emphasis is placed on precision. This is called the **F$_{0.5}$ score** (or F-score for simplicity).\n",
    "\n",
    "Looking at the distribution of classes (those who make at most \\$50,000, and those who make more), it's clear most individuals do not make more than \\$50,000. This can greatly affect **accuracy**, since we could simply say *\"this person does not make more than \\$50,000\"* and generally be right, without ever looking at the data! Making such a statement would be called **naive**, since we have not considered any information to substantiate the claim. It is always important to consider the *naive prediction* for your data, to help establish a benchmark for whether a model is performing well. That been said, using that prediction would be pointless: If we predicted all people made less than \\$50,000, *CharityML* would identify no one as donors. \n",
    "\n",
    "\n",
    "#### Note: Recap of accuracy, precision, recall\n",
    "\n",
    "** Accuracy ** measures how often the classifier makes the correct prediction. It’s the ratio of the number of correct predictions to the total number of predictions (the number of test data points).\n",
    "\n",
    "** Precision ** tells us what proportion of messages we classified as spam, actually were spam.\n",
    "It is a ratio of true positives(words classified as spam, and which are actually spam) to all positives(all words classified as spam, irrespective of whether that was the correct classificatio), in other words it is the ratio of\n",
    "\n",
    "`[True Positives/(True Positives + False Positives)]`\n",
    "\n",
    "** Recall(sensitivity)** tells us what proportion of messages that actually were spam were classified by us as spam.\n",
    "It is a ratio of true positives(words classified as spam, and which are actually spam) to all the words that were actually spam, in other words it is the ratio of\n",
    "\n",
    "`[True Positives/(True Positives + False Negatives)]`\n",
    "\n",
    "For classification problems that are skewed in their classification distributions like in our case, for example if we had a 100 text messages and only 2 were spam and the rest 98 weren't, accuracy by itself is not a very good metric. We could classify 90 messages as not spam(including the 2 that were spam but we classify them as not spam, hence they would be false negatives) and 10 as spam(all 10 false positives) and still get a reasonably good accuracy score. For such cases, precision and recall come in very handy. These two metrics can be combined to get the F1 score, which is weighted average(harmonic mean) of the precision and recall scores. This score can range from 0 to 1, with 1 being the best possible F1 score(we take the harmonic mean as we are dealing with ratios)."
   ]
  },
  {
   "cell_type": "markdown",
   "metadata": {},
   "source": [
    "### Question 1 - Naive Predictor Performance\n",
    "* If we chose a model that always predicted an individual made more than $50,000, what would  that model's accuracy and F-score be on this dataset? You must use the code cell below and assign your results to `'accuracy'` and `'fscore'` to be used later.\n",
    "\n",
    "** Please note ** that the the purpose of generating a naive predictor is simply to show what a base model without any intelligence would look like. In the real world, ideally your base model would be either the results of a previous model or could be based on a research paper upon which you are looking to improve. When there is no benchmark model set, getting a result better than random choice is a place you could start from.\n",
    "\n",
    "** HINT: ** \n",
    "\n",
    "* When we have a model that always predicts '1' (i.e. the individual makes more than 50k) then our model will have no True Negatives(TN) or False Negatives(FN) as we are not making any negative('0' value) predictions. Therefore our Accuracy in this case becomes the same as our Precision(True Positives/(True Positives + False Positives)) as every prediction that we have made with value '1' that should have '0' becomes a False Positive; therefore our denominator in this case is the total number of records we have in total. \n",
    "* Our Recall score(True Positives/(True Positives + False Negatives)) in this setting becomes 1 as we have no False Negatives."
   ]
  },
  {
   "cell_type": "code",
   "execution_count": 9,
   "metadata": {},
   "outputs": [
    {
     "name": "stdout",
     "output_type": "stream",
     "text": [
      "Naive Predictor: [Accuracy score: 0.2478, F-score: 0.2917]\n"
     ]
    }
   ],
   "source": [
    "'''\n",
    "TP = np.sum(income) # Counting the ones as this is the naive case. Note that 'income' is the 'income_raw' data \n",
    "encoded to numerical values done in the data preprocessing step.\n",
    "FP = income.count() - TP # Specific to the naive case\n",
    "\n",
    "TN = 0 # No predicted negatives in the naive case\n",
    "FN = 0 # No predicted negatives in the naive case\n",
    "'''\n",
    "# Calculate accuracy, precision and recall\n",
    "tp = (data['income'] == '>50K').sum()\n",
    "fp = data['income'].count() - tp\n",
    "tn = 0\n",
    "fn = 0\n",
    "accuracy = tp/(data['income'].count())\n",
    "recall = tp/(tp+fn)\n",
    "precision = tp/(tp+fp)\n",
    "\n",
    "# Calculate F-score using the formula above for beta = 0.5 and correct values for precision and recall.\n",
    "beta = 0.5\n",
    "fscore = (1+beta**2) * precision*recall/((beta**2)*precision + recall)\n",
    "\n",
    "# Print the results \n",
    "print(\"Naive Predictor: [Accuracy score: {:.4f}, F-score: {:.4f}]\".format(accuracy, fscore))"
   ]
  },
  {
   "cell_type": "markdown",
   "metadata": {},
   "source": [
    "###  Supervised Learning Models\n",
    "**The following are some of the supervised learning models that are currently available in** [`scikit-learn`](http://scikit-learn.org/stable/supervised_learning.html) **that you may choose from:**\n",
    "- Gaussian Naive Bayes (GaussianNB)\n",
    "- Decision Trees\n",
    "- Ensemble Methods (Bagging, AdaBoost, Random Forest, Gradient Boosting)\n",
    "- K-Nearest Neighbors (KNeighbors)\n",
    "- Stochastic Gradient Descent Classifier (SGDC)\n",
    "- Support Vector Machines (SVM)\n",
    "- Logistic Regression"
   ]
  },
  {
   "cell_type": "markdown",
   "metadata": {},
   "source": [
    "### Question 2 - Model Application\n",
    "List three of the supervised learning models above that are appropriate for this problem that you will test on the census data. For each model chosen\n",
    "\n",
    "- Describe one real-world application in industry where the model can be applied. \n",
    "- What are the strengths of the model; when does it perform well?\n",
    "- What are the weaknesses of the model; when does it perform poorly?\n",
    "- What makes this model a good candidate for the problem, given what you know about the data?\n",
    "\n",
    "** HINT: **\n",
    "\n",
    "Structure your answer in the same format as above^, with 4 parts for each of the three models you pick. Please include references with your answer."
   ]
  },
  {
   "cell_type": "markdown",
   "metadata": {},
   "source": [
    "**Answer: **\n",
    "\n",
    "#### Naive Bayes  \n",
    "- Because Naive Bayes works well with word frequency as a feature, it is therefore useful for text categorization applications such as spam detection and sentiment analysis.  \n",
    "- Strengths: Simple, fast.  Works well with small datasets.  Scales easily.  \n",
    "- Weakeness: Low performing due to simplicity.\n",
    "- Given a set of features occuring with certain probabilities, such as with our dataset, Naive Bayes can predict the probability that a person will be a donor.\n",
    "\n",
    "https://en.wikipedia.org/wiki/Naive_Bayes_classifier\n",
    "\n",
    "#### Logistic Regression  \n",
    "- When data is continuous with a Normal distribution, Logistic Regression is a useful model for a binary classification problems.\n",
    "- Strengths: Output is the probability that the sample belongs to a certain class and can be interpreted easily.  As new data is provided, the model can be incrementally updated with just the new data.\n",
    "- Weakness: Does not work well with non-linear decision boundaries.\n",
    "- This quick and simple algorithm would be good for our binary classification problem.  Being able to predict the probability of a class could be useful in prioritizing which donors to contact.  The model is easily updated if more potential donors are found.\n",
    "\n",
    "https://elitedatascience.com/machine-learning-algorithms\n",
    "\n",
    "#### Gradient Boosting Classifier  \n",
    "- Gradient Boosting works well on supervised learning tasks with unbalanced data.  It boosts difficult examples by strengthening the impact of the positive class.  Therefore it works well with anamoly detection tasks and \"learning to rank\" models used for information retrieval.  \n",
    "- Strengths: Can be used to optimize any objective function that has a gradient.\n",
    "- Weakenesses: Takes longer because trees must be built sequentially.  Sensitive to overfitting if the data is noisy.\n",
    "- For finding donors, Gradient Boosting is a good model because of the relatively small but unbalanced dataset.  It also is able to list the relative importance of features which will be useful in feature selection for increasing training speed and test accuracy.\n",
    "\n",
    "https://medium.com/@aravanshad/gradient-boosting-versus-random-forest-cfa3fa8f0d80"
   ]
  },
  {
   "cell_type": "markdown",
   "metadata": {},
   "source": [
    "### Implementation - Creating a Training and Predicting Pipeline\n",
    "To properly evaluate the performance of each model you've chosen, it's important that you create a training and predicting pipeline that allows you to quickly and effectively train models using various sizes of training data and perform predictions on the testing data. Your implementation here will be used in the following section.\n",
    "In the code block below, you will need to implement the following:\n",
    " - Import `fbeta_score` and `accuracy_score` from [`sklearn.metrics`](http://scikit-learn.org/stable/modules/classes.html#sklearn-metrics-metrics).\n",
    " - Fit the learner to the sampled training data and record the training time.\n",
    " - Perform predictions on the test data `X_test`, and also on the first 300 training points `X_train[:300]`.\n",
    "   - Record the total prediction time.\n",
    " - Calculate the accuracy score for both the training subset and testing set.\n",
    " - Calculate the F-score for both the training subset and testing set.\n",
    "   - Make sure that you set the `beta` parameter!"
   ]
  },
  {
   "cell_type": "code",
   "execution_count": 10,
   "metadata": {},
   "outputs": [],
   "source": [
    "# Import two metrics from sklearn - fbeta_score and accuracy_score\n",
    "from sklearn.metrics import fbeta_score, accuracy_score\n",
    "\n",
    "def train_predict(learner, sample_size, X_train, y_train, X_test, y_test, beta = 1): \n",
    "    '''\n",
    "    inputs:\n",
    "       - learner: the learning algorithm to be trained and predicted on\n",
    "       - sample_size: the size of samples (number) to be drawn from training set\n",
    "       - X_train: features training set\n",
    "       - y_train: income training set\n",
    "       - X_test: features testing set\n",
    "       - y_test: income testing set\n",
    "    '''\n",
    "    \n",
    "    results = {}\n",
    "    \n",
    "    # Fit the learner to the training data using slicing with 'sample_size' using .fit(training_features[:], training_labels[:])\n",
    "    start = time() # Get start time\n",
    "    learner = learner.fit(X_train[:sample_size], y_train[:sample_size])\n",
    "    end = time() # Get end time\n",
    "    \n",
    "    # Calculate the training time\n",
    "    results['train_time'] = end-start\n",
    "        \n",
    "    # Get the predictions on the test set(X_test),\n",
    "    # then get predictions on the first 300 training samples(X_train) using .predict()\n",
    "    len_predictions_train = 300\n",
    "    start = time() # Get start time\n",
    "    predictions_test = learner.predict(X_test)\n",
    "    predictions_train = learner.predict(X_train[:len_predictions_train])\n",
    "    end = time() # Get end time\n",
    "    \n",
    "    # Calculate the total prediction time\n",
    "    results['pred_time'] = end-start\n",
    "            \n",
    "    # Compute accuracy on the first 300 training samples which is y_train[:300]\n",
    "    results['acc_train'] = accuracy_score(y_train[:len_predictions_train], predictions_train)\n",
    "        \n",
    "    # Compute accuracy on test set using accuracy_score()\n",
    "    results['acc_test'] = accuracy_score(y_test, predictions_test)\n",
    "    \n",
    "    # Compute F-score on the the first 300 training samples using fbeta_score()\n",
    "    results['f_train'] = fbeta_score(y_train[:len_predictions_train], predictions_train, beta = beta)\n",
    "        \n",
    "    # Compute F-score on the test set which is y_test\n",
    "    results['f_test'] = fbeta_score(y_test, predictions_test, beta = beta)\n",
    "       \n",
    "    # Success\n",
    "    print(\"{} trained on {} samples.\".format(learner.__class__.__name__, sample_size))\n",
    "        \n",
    "    # Return the results\n",
    "    return results"
   ]
  },
  {
   "cell_type": "markdown",
   "metadata": {},
   "source": [
    "### Implementation: Initial Model Evaluation\n",
    "In the code cell, you will need to implement the following:\n",
    "- Import the three supervised learning models you've discussed in the previous section.\n",
    "- Initialize the three models and store them in `'clf_A'`, `'clf_B'`, and `'clf_C'`.\n",
    "  - Use a `'random_state'` for each model you use, if provided.\n",
    "  - **Note:** Use the default settings for each model — you will tune one specific model in a later section.\n",
    "- Calculate the number of records equal to 1%, 10%, and 100% of the training data.\n",
    "  - Store those values in `'samples_1'`, `'samples_10'`, and `'samples_100'` respectively.\n",
    "\n",
    "**Note:** Depending on which algorithms you chose, the following implementation may take some time to run!"
   ]
  },
  {
   "cell_type": "code",
   "execution_count": 11,
   "metadata": {},
   "outputs": [
    {
     "name": "stdout",
     "output_type": "stream",
     "text": [
      "GaussianNB trained on 361 samples.\n",
      "GaussianNB trained on 3617 samples.\n",
      "GaussianNB trained on 36177 samples.\n",
      "LogisticRegression trained on 361 samples.\n",
      "LogisticRegression trained on 3617 samples.\n",
      "LogisticRegression trained on 36177 samples.\n",
      "GradientBoostingClassifier trained on 361 samples.\n",
      "GradientBoostingClassifier trained on 3617 samples.\n",
      "GradientBoostingClassifier trained on 36177 samples.\n"
     ]
    },
    {
     "data": {
      "image/png": "[encoded data removed]",
      "text/plain": [
       "<matplotlib.figure.Figure at 0x7f0a79da2588>"
      ]
     },
     "metadata": {
      "needs_background": "light"
     },
     "output_type": "display_data"
    }
   ],
   "source": [
    "# Import the three supervised learning models from sklearn\n",
    "\n",
    "from sklearn.naive_bayes import GaussianNB\n",
    "from sklearn.linear_model import LogisticRegression\n",
    "from sklearn.ensemble import GradientBoostingClassifier\n",
    "\n",
    "# Initialize the three models\n",
    "clf_A = GaussianNB()\n",
    "clf_B = LogisticRegression(solver='lbfgs', random_state=42)\n",
    "clf_C = GradientBoostingClassifier(random_state=42)\n",
    "\n",
    "# Calculate the number of samples for 1%, 10%, and 100% of the training data\n",
    "# HINT: samples_100 is the entire training set i.e. len(y_train)\n",
    "# HINT: samples_10 is 10% of samples_100 (ensure to set the count of the values to be `int` and not `float`)\n",
    "# HINT: samples_1 is 1% of samples_100 (ensure to set the count of the values to be `int` and not `float`)\n",
    "samples_100 = int(len(y_train))\n",
    "samples_10 = int(0.1*len(y_train))\n",
    "samples_1 = int(0.01*len(y_train))\n",
    "\n",
    "# Set beta for fbeta_score evaluation\n",
    "beta = 1\n",
    "\n",
    "# Collect results on the learners\n",
    "results = {}\n",
    "for clf in [clf_A, clf_B, clf_C]:\n",
    "    clf_name = clf.__class__.__name__\n",
    "    results[clf_name] = {}\n",
    "    for i, samples in enumerate([samples_1, samples_10, samples_100]):\n",
    "        results[clf_name][i] = \\\n",
    "        train_predict(clf, samples, X_train, y_train, X_test, y_test, beta)\n",
    "\n",
    "# Run metrics visualization for the three supervised learning models chosen\n",
    "vs.evaluate(results, accuracy, fscore)"
   ]
  },
  {
   "cell_type": "markdown",
   "metadata": {},
   "source": [
    "----\n",
    "## Improving Results\n",
    "In this final section, you will choose from the three supervised learning models the *best* model to use on the student data. You will then perform a grid search optimization for the model over the entire training set (`X_train` and `y_train`) by tuning at least one parameter to improve upon the untuned model's F-score. "
   ]
  },
  {
   "cell_type": "markdown",
   "metadata": {},
   "source": [
    "### Question 3 - Choosing the Best Model\n",
    "\n",
    "* Based on the evaluation you performed earlier, in one to two paragraphs, explain to *CharityML* which of the three models you believe to be most appropriate for the task of identifying individuals that make more than \\$50,000. \n",
    "\n",
    "** HINT: ** \n",
    "Look at the graph at the bottom left from the cell above(the visualization created by `vs.evaluate(results, accuracy, fscore)`) and check the F score for the testing set when 100% of the training set is used. Which model has the highest score? Your answer should include discussion of the:\n",
    "* metrics - F score on the testing when 100% of the training data is used, \n",
    "* prediction/training time\n",
    "* the algorithm's suitability for the data."
   ]
  },
  {
   "cell_type": "markdown",
   "metadata": {},
   "source": []
  },
  {
   "cell_type": "markdown",
   "metadata": {},
   "source": [
    "**Answer: **  \n",
    "\n",
    "The model that consistently had the best accuracy and F-score was Gradient Boosting.  This was true for all scores, on the training set, and the test set no matter what percentage of training data was used.  If you are trying to optimize those two performance metrics, Gradient Boosting is clearly the best choice.  Gradient Boosting did have a long training time which is its major disadvantage.  Because we have a relatively small and static dataset, training time probably isn't as important.  That said, Logistic Regression performed nearly as well as Gradient Boosting but took the least amount of time to train of all the models evaluated.  With a larger dataset, Logistic Regression might be more appealing.  Logistic Regression also implements regularization easily obviating the need for explicit feature selection.  In a given amount of time, you could tune more Logistic Regression parameters than you could Gradient Boosting parameters and possibly come up with a better performing Logistic Regression model.   \n",
    "\n",
    "Ultimately, I decided outright performance is more important and therefore chose to move forward with Gradient Boosting.  Gradient Boosting tends to be a more popular algorithm for Kaggle completitions so I suppose there is some safety in that decision."
   ]
  },
  {
   "cell_type": "markdown",
   "metadata": {},
   "source": [
    "### Question 4 - Describing the Model in Layman's Terms\n",
    "\n",
    "* In one to two paragraphs, explain to *CharityML*, in layman's terms, how the final model chosen is supposed to work. Be sure that you are describing the major qualities of the model, such as how the model is trained and how the model makes a prediction. Avoid using advanced mathematical jargon, such as describing equations.\n",
    "\n",
    "** HINT: **\n",
    "\n",
    "When explaining your model, if using external resources please include all citations."
   ]
  },
  {
   "cell_type": "markdown",
   "metadata": {},
   "source": [
    "**Answer: ** \n",
    "\n",
    "Decision trees are often used for classifications problems.  These trees start with a criteria to split samples into two groups or leaves.  At each leaf, additional splits may occur, further dividing up the subsamples.  When there are no longer any more splits at the leaves, all the samples on a particular leaf are predicted to be in a single category.  Decision trees are a simple and intuitive way to categorize samples.  \n",
    "\n",
    "Ensemble methods combine several of these decision trees into one model.  Boosting algorithms work by applying decision trees in succession.  Each succesive decision tree tries to correct the misclassifications of the prior tree.  Gradient Boosting tries to correct the previous decision tree by predicting its residual errors.  By adding all these decision trees together, the overall performance of the Gradient Boosting model is increased.  \n",
    "\n"
   ]
  },
  {
   "cell_type": "markdown",
   "metadata": {},
   "source": [
    "### Implementation: Model Tuning\n",
    "Fine tune the chosen model. Use grid search (`GridSearchCV`) with at least one important parameter tuned with at least 3 different values. You will need to use the entire training set for this. In the code cell below, you will need to implement the following:\n",
    "- Import [`sklearn.grid_search.GridSearchCV`](http://scikit-learn.org/0.17/modules/generated/sklearn.grid_search.GridSearchCV.html) and [`sklearn.metrics.make_scorer`](http://scikit-learn.org/stable/modules/generated/sklearn.metrics.make_scorer.html).\n",
    "- Initialize the classifier you've chosen and store it in `clf`.\n",
    " - Set a `random_state` if one is available to the same state you set before.\n",
    "- Create a dictionary of parameters you wish to tune for the chosen model.\n",
    " - Example: `parameters = {'parameter' : [list of values]}`.\n",
    " - **Note:** Avoid tuning the `max_features` parameter of your learner if that parameter is available!\n",
    "- Use `make_scorer` to create an `fbeta_score` scoring object (with $\\beta = 0.5$).\n",
    "- Perform grid search on the classifier `clf` using the `'scorer'`, and store it in `grid_obj`.\n",
    "- Fit the grid search object to the training data (`X_train`, `y_train`), and store it in `grid_fit`.\n",
    "\n",
    "**Note:** Depending on the algorithm chosen and the parameter list, the following implementation may take some time to run!"
   ]
  },
  {
   "cell_type": "code",
   "execution_count": 12,
   "metadata": {
    "scrolled": false
   },
   "outputs": [
    {
     "name": "stdout",
     "output_type": "stream",
     "text": [
      "Fitting 3 folds for each of 36 candidates, totalling 108 fits\n",
      "[CV] learning_rate=0.05, max_depth=2, n_estimators=50 ................\n",
      "[CV]  learning_rate=0.05, max_depth=2, n_estimators=50, score=0.713007440896675, total=   2.6s\n",
      "[CV] learning_rate=0.05, max_depth=2, n_estimators=50 ................\n"
     ]
    },
    {
     "name": "stderr",
     "output_type": "stream",
     "text": [
      "[Parallel(n_jobs=-1)]: Done   1 out of   1 | elapsed:    2.7s remaining:    0.0s\n"
     ]
    },
    {
     "name": "stdout",
     "output_type": "stream",
     "text": [
      "[CV]  learning_rate=0.05, max_depth=2, n_estimators=50, score=0.7140867304299379, total=   2.6s\n",
      "[CV] learning_rate=0.05, max_depth=2, n_estimators=50 ................\n"
     ]
    },
    {
     "name": "stderr",
     "output_type": "stream",
     "text": [
      "[Parallel(n_jobs=-1)]: Done   2 out of   2 | elapsed:    5.3s remaining:    0.0s\n"
     ]
    },
    {
     "name": "stdout",
     "output_type": "stream",
     "text": [
      "[CV]  learning_rate=0.05, max_depth=2, n_estimators=50, score=0.7108007270640008, total=   2.6s\n",
      "[CV] learning_rate=0.05, max_depth=2, n_estimators=100 ...............\n"
     ]
    },
    {
     "name": "stderr",
     "output_type": "stream",
     "text": [
      "[Parallel(n_jobs=-1)]: Done   3 out of   3 | elapsed:    7.9s remaining:    0.0s\n"
     ]
    },
    {
     "name": "stdout",
     "output_type": "stream",
     "text": [
      "[CV]  learning_rate=0.05, max_depth=2, n_estimators=100, score=0.7264497624809537, total=   4.5s\n",
      "[CV] learning_rate=0.05, max_depth=2, n_estimators=100 ...............\n"
     ]
    },
    {
     "name": "stderr",
     "output_type": "stream",
     "text": [
      "[Parallel(n_jobs=-1)]: Done   4 out of   4 | elapsed:   12.5s remaining:    0.0s\n"
     ]
    },
    {
     "name": "stdout",
     "output_type": "stream",
     "text": [
      "[CV]  learning_rate=0.05, max_depth=2, n_estimators=100, score=0.730212312338989, total=   4.7s\n",
      "[CV] learning_rate=0.05, max_depth=2, n_estimators=100 ...............\n"
     ]
    },
    {
     "name": "stderr",
     "output_type": "stream",
     "text": [
      "[Parallel(n_jobs=-1)]: Done   5 out of   5 | elapsed:   17.3s remaining:    0.0s\n"
     ]
    },
    {
     "name": "stdout",
     "output_type": "stream",
     "text": [
      "[CV]  learning_rate=0.05, max_depth=2, n_estimators=100, score=0.7363152673820904, total=   4.7s\n",
      "[CV] learning_rate=0.05, max_depth=2, n_estimators=200 ...............\n"
     ]
    },
    {
     "name": "stderr",
     "output_type": "stream",
     "text": [
      "[Parallel(n_jobs=-1)]: Done   6 out of   6 | elapsed:   22.1s remaining:    0.0s\n"
     ]
    },
    {
     "name": "stdout",
     "output_type": "stream",
     "text": [
      "[CV]  learning_rate=0.05, max_depth=2, n_estimators=200, score=0.7318208753068652, total=   8.6s\n",
      "[CV] learning_rate=0.05, max_depth=2, n_estimators=200 ...............\n"
     ]
    },
    {
     "name": "stderr",
     "output_type": "stream",
     "text": [
      "[Parallel(n_jobs=-1)]: Done   7 out of   7 | elapsed:   30.8s remaining:    0.0s\n"
     ]
    },
    {
     "name": "stdout",
     "output_type": "stream",
     "text": [
      "[CV]  learning_rate=0.05, max_depth=2, n_estimators=200, score=0.732885342293154, total=   8.6s\n",
      "[CV] learning_rate=0.05, max_depth=2, n_estimators=200 ...............\n"
     ]
    },
    {
     "name": "stderr",
     "output_type": "stream",
     "text": [
      "[Parallel(n_jobs=-1)]: Done   8 out of   8 | elapsed:   39.6s remaining:    0.0s\n"
     ]
    },
    {
     "name": "stdout",
     "output_type": "stream",
     "text": [
      "[CV]  learning_rate=0.05, max_depth=2, n_estimators=200, score=0.7376481785930605, total=   8.5s\n",
      "[CV] learning_rate=0.05, max_depth=2, n_estimators=400 ...............\n"
     ]
    },
    {
     "name": "stderr",
     "output_type": "stream",
     "text": [
      "[Parallel(n_jobs=-1)]: Done   9 out of   9 | elapsed:   48.2s remaining:    0.0s\n"
     ]
    },
    {
     "name": "stdout",
     "output_type": "stream",
     "text": [
      "[CV]  learning_rate=0.05, max_depth=2, n_estimators=400, score=0.7408310970155324, total=  15.5s\n",
      "[CV] learning_rate=0.05, max_depth=2, n_estimators=400 ...............\n",
      "[CV]  learning_rate=0.05, max_depth=2, n_estimators=400, score=0.7435959206616879, total=  14.8s\n",
      "[CV] learning_rate=0.05, max_depth=2, n_estimators=400 ...............\n",
      "[CV]  learning_rate=0.05, max_depth=2, n_estimators=400, score=0.7472882338329055, total=  15.6s\n",
      "[CV] learning_rate=0.05, max_depth=4, n_estimators=50 ................\n",
      "[CV]  learning_rate=0.05, max_depth=4, n_estimators=50, score=0.7358037856571582, total=   8.3s\n",
      "[CV] learning_rate=0.05, max_depth=4, n_estimators=50 ................\n",
      "[CV]  learning_rate=0.05, max_depth=4, n_estimators=50, score=0.7391005245506923, total=   8.6s\n",
      "[CV] learning_rate=0.05, max_depth=4, n_estimators=50 ................\n",
      "[CV]  learning_rate=0.05, max_depth=4, n_estimators=50, score=0.7421486107340031, total=   8.6s\n",
      "[CV] learning_rate=0.05, max_depth=4, n_estimators=100 ...............\n",
      "[CV]  learning_rate=0.05, max_depth=4, n_estimators=100, score=0.7425537210652948, total=  15.9s\n",
      "[CV] learning_rate=0.05, max_depth=4, n_estimators=100 ...............\n",
      "[CV]  learning_rate=0.05, max_depth=4, n_estimators=100, score=0.7414448669201521, total=  15.4s\n",
      "[CV] learning_rate=0.05, max_depth=4, n_estimators=100 ...............\n",
      "[CV]  learning_rate=0.05, max_depth=4, n_estimators=100, score=0.7487597746573614, total=  15.9s\n",
      "[CV] learning_rate=0.05, max_depth=4, n_estimators=200 ...............\n",
      "[CV]  learning_rate=0.05, max_depth=4, n_estimators=200, score=0.7496269535851723, total=  26.0s\n",
      "[CV] learning_rate=0.05, max_depth=4, n_estimators=200 ...............\n",
      "[CV]  learning_rate=0.05, max_depth=4, n_estimators=200, score=0.7470203767781622, total=  24.6s\n",
      "[CV] learning_rate=0.05, max_depth=4, n_estimators=200 ...............\n",
      "[CV]  learning_rate=0.05, max_depth=4, n_estimators=200, score=0.7585650947198711, total=  25.9s\n",
      "[CV] learning_rate=0.05, max_depth=4, n_estimators=400 ...............\n",
      "[CV]  learning_rate=0.05, max_depth=4, n_estimators=400, score=0.752704672753779, total=  43.2s\n",
      "[CV] learning_rate=0.05, max_depth=4, n_estimators=400 ...............\n",
      "[CV]  learning_rate=0.05, max_depth=4, n_estimators=400, score=0.7491104549928079, total=  42.7s\n",
      "[CV] learning_rate=0.05, max_depth=4, n_estimators=400 ...............\n",
      "[CV]  learning_rate=0.05, max_depth=4, n_estimators=400, score=0.7615919931190868, total=  46.1s\n",
      "[CV] learning_rate=0.05, max_depth=8, n_estimators=50 ................\n",
      "[CV]  learning_rate=0.05, max_depth=8, n_estimators=50, score=0.7517026822500631, total=  29.3s\n",
      "[CV] learning_rate=0.05, max_depth=8, n_estimators=50 ................\n",
      "[CV]  learning_rate=0.05, max_depth=8, n_estimators=50, score=0.7505838769429009, total=  29.5s\n",
      "[CV] learning_rate=0.05, max_depth=8, n_estimators=50 ................\n",
      "[CV]  learning_rate=0.05, max_depth=8, n_estimators=50, score=0.757822546078011, total=  30.6s\n",
      "[CV] learning_rate=0.05, max_depth=8, n_estimators=100 ...............\n",
      "[CV]  learning_rate=0.05, max_depth=8, n_estimators=100, score=0.7544390168256184, total=  51.8s\n",
      "[CV] learning_rate=0.05, max_depth=8, n_estimators=100 ...............\n",
      "[CV]  learning_rate=0.05, max_depth=8, n_estimators=100, score=0.7464391804402468, total=  53.9s\n",
      "[CV] learning_rate=0.05, max_depth=8, n_estimators=100 ...............\n",
      "[CV]  learning_rate=0.05, max_depth=8, n_estimators=100, score=0.7608263806118395, total=  53.1s\n",
      "[CV] learning_rate=0.05, max_depth=8, n_estimators=200 ...............\n",
      "[CV]  learning_rate=0.05, max_depth=8, n_estimators=200, score=0.7498685100308061, total= 1.5min\n",
      "[CV] learning_rate=0.05, max_depth=8, n_estimators=200 ...............\n",
      "[CV]  learning_rate=0.05, max_depth=8, n_estimators=200, score=0.750093808630394, total= 1.5min\n",
      "[CV] learning_rate=0.05, max_depth=8, n_estimators=200 ...............\n",
      "[CV]  learning_rate=0.05, max_depth=8, n_estimators=200, score=0.756266872348631, total= 1.5min\n",
      "[CV] learning_rate=0.05, max_depth=8, n_estimators=400 ...............\n",
      "[CV]  learning_rate=0.05, max_depth=8, n_estimators=400, score=0.7452795261014439, total= 2.4min\n",
      "[CV] learning_rate=0.05, max_depth=8, n_estimators=400 ...............\n",
      "[CV]  learning_rate=0.05, max_depth=8, n_estimators=400, score=0.7428274890651642, total= 2.5min\n",
      "[CV] learning_rate=0.05, max_depth=8, n_estimators=400 ...............\n",
      "[CV]  learning_rate=0.05, max_depth=8, n_estimators=400, score=0.7494109599452763, total= 2.5min\n",
      "[CV] learning_rate=0.1, max_depth=2, n_estimators=50 .................\n",
      "[CV]  learning_rate=0.1, max_depth=2, n_estimators=50, score=0.7260842681741896, total=   2.5s\n",
      "[CV] learning_rate=0.1, max_depth=2, n_estimators=50 .................\n",
      "[CV]  learning_rate=0.1, max_depth=2, n_estimators=50, score=0.7295436490422809, total=   2.5s\n",
      "[CV] learning_rate=0.1, max_depth=2, n_estimators=50 .................\n",
      "[CV]  learning_rate=0.1, max_depth=2, n_estimators=50, score=0.7354931865355114, total=   2.4s\n",
      "[CV] learning_rate=0.1, max_depth=2, n_estimators=100 ................\n",
      "[CV]  learning_rate=0.1, max_depth=2, n_estimators=100, score=0.7348094312515846, total=   4.4s\n",
      "[CV] learning_rate=0.1, max_depth=2, n_estimators=100 ................\n",
      "[CV]  learning_rate=0.1, max_depth=2, n_estimators=100, score=0.7327405419008474, total=   4.3s\n",
      "[CV] learning_rate=0.1, max_depth=2, n_estimators=100 ................\n",
      "[CV]  learning_rate=0.1, max_depth=2, n_estimators=100, score=0.7384333885161628, total=   4.2s\n",
      "[CV] learning_rate=0.1, max_depth=2, n_estimators=200 ................\n",
      "[CV]  learning_rate=0.1, max_depth=2, n_estimators=200, score=0.7437181869596833, total=   7.8s\n",
      "[CV] learning_rate=0.1, max_depth=2, n_estimators=200 ................\n",
      "[CV]  learning_rate=0.1, max_depth=2, n_estimators=200, score=0.7438348461723834, total=   7.8s\n",
      "[CV] learning_rate=0.1, max_depth=2, n_estimators=200 ................\n",
      "[CV]  learning_rate=0.1, max_depth=2, n_estimators=200, score=0.747706042820534, total=   7.8s\n",
      "[CV] learning_rate=0.1, max_depth=2, n_estimators=400 ................\n",
      "[CV]  learning_rate=0.1, max_depth=2, n_estimators=400, score=0.7539651227018069, total=  14.4s\n",
      "[CV] learning_rate=0.1, max_depth=2, n_estimators=400 ................\n",
      "[CV]  learning_rate=0.1, max_depth=2, n_estimators=400, score=0.7469025169484922, total=  14.4s\n",
      "[CV] learning_rate=0.1, max_depth=2, n_estimators=400 ................\n",
      "[CV]  learning_rate=0.1, max_depth=2, n_estimators=400, score=0.7552894211576846, total=  14.6s\n",
      "[CV] learning_rate=0.1, max_depth=4, n_estimators=50 .................\n",
      "[CV]  learning_rate=0.1, max_depth=4, n_estimators=50, score=0.7452822345997174, total=   7.6s\n",
      "[CV] learning_rate=0.1, max_depth=4, n_estimators=50 .................\n",
      "[CV]  learning_rate=0.1, max_depth=4, n_estimators=50, score=0.7427639624949042, total=   7.9s\n",
      "[CV] learning_rate=0.1, max_depth=4, n_estimators=50 .................\n",
      "[CV]  learning_rate=0.1, max_depth=4, n_estimators=50, score=0.7494332017801664, total=   7.8s\n",
      "[CV] learning_rate=0.1, max_depth=4, n_estimators=100 ................\n",
      "[CV]  learning_rate=0.1, max_depth=4, n_estimators=100, score=0.7504880905896135, total=  13.2s\n",
      "[CV] learning_rate=0.1, max_depth=4, n_estimators=100 ................\n",
      "[CV]  learning_rate=0.1, max_depth=4, n_estimators=100, score=0.7446808510638298, total=  13.1s\n",
      "[CV] learning_rate=0.1, max_depth=4, n_estimators=100 ................\n",
      "[CV]  learning_rate=0.1, max_depth=4, n_estimators=100, score=0.7557906548048409, total=  13.5s\n",
      "[CV] learning_rate=0.1, max_depth=4, n_estimators=200 ................\n",
      "[CV]  learning_rate=0.1, max_depth=4, n_estimators=200, score=0.7545087892854424, total=  22.5s\n",
      "[CV] learning_rate=0.1, max_depth=4, n_estimators=200 ................\n",
      "[CV]  learning_rate=0.1, max_depth=4, n_estimators=200, score=0.7485736021300874, total=  22.2s\n",
      "[CV] learning_rate=0.1, max_depth=4, n_estimators=200 ................\n",
      "[CV]  learning_rate=0.1, max_depth=4, n_estimators=200, score=0.7575401488444967, total=  22.2s\n",
      "[CV] learning_rate=0.1, max_depth=4, n_estimators=400 ................\n",
      "[CV]  learning_rate=0.1, max_depth=4, n_estimators=400, score=0.7533318274226338, total=  41.3s\n",
      "[CV] learning_rate=0.1, max_depth=4, n_estimators=400 ................\n",
      "[CV]  learning_rate=0.1, max_depth=4, n_estimators=400, score=0.7497173011684884, total=  39.9s\n",
      "[CV] learning_rate=0.1, max_depth=4, n_estimators=400 ................\n",
      "[CV]  learning_rate=0.1, max_depth=4, n_estimators=400, score=0.7603934527011449, total=  41.3s\n",
      "[CV] learning_rate=0.1, max_depth=8, n_estimators=50 .................\n",
      "[CV]  learning_rate=0.1, max_depth=8, n_estimators=50, score=0.7572686881284589, total=  27.2s\n",
      "[CV] learning_rate=0.1, max_depth=8, n_estimators=50 .................\n",
      "[CV]  learning_rate=0.1, max_depth=8, n_estimators=50, score=0.7433924899078376, total=  25.8s\n",
      "[CV] learning_rate=0.1, max_depth=8, n_estimators=50 .................\n",
      "[CV]  learning_rate=0.1, max_depth=8, n_estimators=50, score=0.7546871291828179, total=  27.1s\n",
      "[CV] learning_rate=0.1, max_depth=8, n_estimators=100 ................\n",
      "[CV]  learning_rate=0.1, max_depth=8, n_estimators=100, score=0.7522123893805309, total=  46.0s\n",
      "[CV] learning_rate=0.1, max_depth=8, n_estimators=100 ................\n",
      "[CV]  learning_rate=0.1, max_depth=8, n_estimators=100, score=0.7433694434067986, total=  43.1s\n",
      "[CV] learning_rate=0.1, max_depth=8, n_estimators=100 ................\n",
      "[CV]  learning_rate=0.1, max_depth=8, n_estimators=100, score=0.7533451929770284, total=  43.5s\n",
      "[CV] learning_rate=0.1, max_depth=8, n_estimators=200 ................\n",
      "[CV]  learning_rate=0.1, max_depth=8, n_estimators=200, score=0.7419571545868477, total= 1.2min\n",
      "[CV] learning_rate=0.1, max_depth=8, n_estimators=200 ................\n",
      "[CV]  learning_rate=0.1, max_depth=8, n_estimators=200, score=0.7358656596025519, total= 1.3min\n",
      "[CV] learning_rate=0.1, max_depth=8, n_estimators=200 ................\n",
      "[CV]  learning_rate=0.1, max_depth=8, n_estimators=200, score=0.7437201183881005, total= 1.3min\n",
      "[CV] learning_rate=0.1, max_depth=8, n_estimators=400 ................\n",
      "[CV]  learning_rate=0.1, max_depth=8, n_estimators=400, score=0.7270894017477033, total= 2.6min\n",
      "[CV] learning_rate=0.1, max_depth=8, n_estimators=400 ................\n",
      "[CV]  learning_rate=0.1, max_depth=8, n_estimators=400, score=0.724911109498585, total= 2.4min\n",
      "[CV] learning_rate=0.1, max_depth=8, n_estimators=400 ................\n",
      "[CV]  learning_rate=0.1, max_depth=8, n_estimators=400, score=0.7373760314936785, total= 2.6min\n",
      "[CV] learning_rate=0.2, max_depth=2, n_estimators=50 .................\n",
      "[CV]  learning_rate=0.2, max_depth=2, n_estimators=50, score=0.7319431598419238, total=   2.0s\n",
      "[CV] learning_rate=0.2, max_depth=2, n_estimators=50 .................\n",
      "[CV]  learning_rate=0.2, max_depth=2, n_estimators=50, score=0.7328976755728348, total=   2.1s\n",
      "[CV] learning_rate=0.2, max_depth=2, n_estimators=50 .................\n",
      "[CV]  learning_rate=0.2, max_depth=2, n_estimators=50, score=0.7396784006953498, total=   2.1s\n",
      "[CV] learning_rate=0.2, max_depth=2, n_estimators=100 ................\n",
      "[CV]  learning_rate=0.2, max_depth=2, n_estimators=100, score=0.7424035917581977, total=   3.9s\n",
      "[CV] learning_rate=0.2, max_depth=2, n_estimators=100 ................\n",
      "[CV]  learning_rate=0.2, max_depth=2, n_estimators=100, score=0.7397447218431404, total=   3.6s\n",
      "[CV] learning_rate=0.2, max_depth=2, n_estimators=100 ................\n",
      "[CV]  learning_rate=0.2, max_depth=2, n_estimators=100, score=0.7463117118602159, total=   3.5s\n",
      "[CV] learning_rate=0.2, max_depth=2, n_estimators=200 ................\n",
      "[CV]  learning_rate=0.2, max_depth=2, n_estimators=200, score=0.7525877500194568, total=   7.1s\n",
      "[CV] learning_rate=0.2, max_depth=2, n_estimators=200 ................\n",
      "[CV]  learning_rate=0.2, max_depth=2, n_estimators=200, score=0.7465940054495913, total=   7.2s\n",
      "[CV] learning_rate=0.2, max_depth=2, n_estimators=200 ................\n",
      "[CV]  learning_rate=0.2, max_depth=2, n_estimators=200, score=0.7557160048134778, total=   7.2s\n",
      "[CV] learning_rate=0.2, max_depth=2, n_estimators=400 ................\n",
      "[CV]  learning_rate=0.2, max_depth=2, n_estimators=400, score=0.7549117039981653, total=  12.7s\n",
      "[CV] learning_rate=0.2, max_depth=2, n_estimators=400 ................\n",
      "[CV]  learning_rate=0.2, max_depth=2, n_estimators=400, score=0.7487959636113447, total=  13.3s\n",
      "[CV] learning_rate=0.2, max_depth=2, n_estimators=400 ................\n",
      "[CV]  learning_rate=0.2, max_depth=2, n_estimators=400, score=0.760213283149063, total=  13.6s\n",
      "[CV] learning_rate=0.2, max_depth=4, n_estimators=50 .................\n",
      "[CV]  learning_rate=0.2, max_depth=4, n_estimators=50, score=0.7484585967376882, total=   6.2s\n",
      "[CV] learning_rate=0.2, max_depth=4, n_estimators=50 .................\n",
      "[CV]  learning_rate=0.2, max_depth=4, n_estimators=50, score=0.7459785011816726, total=   6.9s\n",
      "[CV] learning_rate=0.2, max_depth=4, n_estimators=50 .................\n",
      "[CV]  learning_rate=0.2, max_depth=4, n_estimators=50, score=0.7544509788125352, total=   6.4s\n",
      "[CV] learning_rate=0.2, max_depth=4, n_estimators=100 ................\n",
      "[CV]  learning_rate=0.2, max_depth=4, n_estimators=100, score=0.7541220272015805, total=  10.8s\n",
      "[CV] learning_rate=0.2, max_depth=4, n_estimators=100 ................\n",
      "[CV]  learning_rate=0.2, max_depth=4, n_estimators=100, score=0.7469224378823351, total=  11.0s\n",
      "[CV] learning_rate=0.2, max_depth=4, n_estimators=100 ................\n",
      "[CV]  learning_rate=0.2, max_depth=4, n_estimators=100, score=0.755900572414334, total=  10.9s\n",
      "[CV] learning_rate=0.2, max_depth=4, n_estimators=200 ................\n",
      "[CV]  learning_rate=0.2, max_depth=4, n_estimators=200, score=0.7484492937747552, total=  21.0s\n",
      "[CV] learning_rate=0.2, max_depth=4, n_estimators=200 ................\n",
      "[CV]  learning_rate=0.2, max_depth=4, n_estimators=200, score=0.7448713166728833, total=  21.1s\n",
      "[CV] learning_rate=0.2, max_depth=4, n_estimators=200 ................\n",
      "[CV]  learning_rate=0.2, max_depth=4, n_estimators=200, score=0.7548695049657401, total=  19.7s\n",
      "[CV] learning_rate=0.2, max_depth=4, n_estimators=400 ................\n",
      "[CV]  learning_rate=0.2, max_depth=4, n_estimators=400, score=0.743228282530076, total=  37.9s\n",
      "[CV] learning_rate=0.2, max_depth=4, n_estimators=400 ................\n",
      "[CV]  learning_rate=0.2, max_depth=4, n_estimators=400, score=0.7410008130682239, total=  39.4s\n",
      "[CV] learning_rate=0.2, max_depth=4, n_estimators=400 ................\n",
      "[CV]  learning_rate=0.2, max_depth=4, n_estimators=400, score=0.7468296757536639, total=  37.9s\n",
      "[CV] learning_rate=0.2, max_depth=8, n_estimators=50 .................\n",
      "[CV]  learning_rate=0.2, max_depth=8, n_estimators=50, score=0.7428443315148345, total=  21.7s\n",
      "[CV] learning_rate=0.2, max_depth=8, n_estimators=50 .................\n",
      "[CV]  learning_rate=0.2, max_depth=8, n_estimators=50, score=0.7440719542109566, total=  20.5s\n",
      "[CV] learning_rate=0.2, max_depth=8, n_estimators=50 .................\n",
      "[CV]  learning_rate=0.2, max_depth=8, n_estimators=50, score=0.7478128565994674, total=  22.6s\n",
      "[CV] learning_rate=0.2, max_depth=8, n_estimators=100 ................\n",
      "[CV]  learning_rate=0.2, max_depth=8, n_estimators=100, score=0.7369080061869336, total=  38.1s\n",
      "[CV] learning_rate=0.2, max_depth=8, n_estimators=100 ................\n",
      "[CV]  learning_rate=0.2, max_depth=8, n_estimators=100, score=0.7335865040531659, total=  35.6s\n",
      "[CV] learning_rate=0.2, max_depth=8, n_estimators=100 ................\n",
      "[CV]  learning_rate=0.2, max_depth=8, n_estimators=100, score=0.7382222556165001, total=  38.9s\n",
      "[CV] learning_rate=0.2, max_depth=8, n_estimators=200 ................\n",
      "[CV]  learning_rate=0.2, max_depth=8, n_estimators=200, score=0.7198000147048011, total= 1.3min\n",
      "[CV] learning_rate=0.2, max_depth=8, n_estimators=200 ................\n",
      "[CV]  learning_rate=0.2, max_depth=8, n_estimators=200, score=0.7175275556516101, total= 1.3min\n",
      "[CV] learning_rate=0.2, max_depth=8, n_estimators=200 ................\n",
      "[CV]  learning_rate=0.2, max_depth=8, n_estimators=200, score=0.726576001202194, total= 1.3min\n",
      "[CV] learning_rate=0.2, max_depth=8, n_estimators=400 ................\n",
      "[CV]  learning_rate=0.2, max_depth=8, n_estimators=400, score=0.710811408357285, total= 2.8min\n",
      "[CV] learning_rate=0.2, max_depth=8, n_estimators=400 ................\n",
      "[CV]  learning_rate=0.2, max_depth=8, n_estimators=400, score=0.7048051671516786, total= 2.7min\n",
      "[CV] learning_rate=0.2, max_depth=8, n_estimators=400 ................\n",
      "[CV]  learning_rate=0.2, max_depth=8, n_estimators=400, score=0.7077225989936556, total= 2.8min\n"
     ]
    },
    {
     "name": "stderr",
     "output_type": "stream",
     "text": [
      "[Parallel(n_jobs=-1)]: Done 108 out of 108 | elapsed: 63.4min finished\n"
     ]
    },
    {
     "name": "stdout",
     "output_type": "stream",
     "text": [
      "Unoptimized model\n",
      "------\n",
      "Accuracy score on testing data: 0.8630\n",
      "F-score on testing data: 0.7395\n",
      "\n",
      "Optimized Model\n",
      "------\n",
      "Final accuracy score on the testing data: 0.8699\n",
      "Final F-score on the testing data: 0.7512\n"
     ]
    }
   ],
   "source": [
    "# Import 'GridSearchCV', 'make_scorer', and any other necessary libraries\n",
    "from sklearn.model_selection import GridSearchCV\n",
    "from sklearn.metrics import make_scorer\n",
    "# Initialize the classifier\n",
    "clf = GradientBoostingClassifier(random_state=42)\n",
    "\n",
    "# Create the parameters list you wish to tune, using a dictionary if needed.\n",
    "# HINT: parameters = {'parameter_1': [value1, value2], 'parameter_2': [value1, value2]}\n",
    "parameters = {'max_depth': [2, 4, 8],\n",
    "              'n_estimators': [50, 100, 200, 400], 'learning_rate': [0.05, 0.1, 0.2]}\n",
    "\n",
    "# Make an fbeta_score scoring object using make_scorer()\n",
    "scorer = make_scorer(fbeta_score, beta=0.5)\n",
    "\n",
    "# Perform grid search on the classifier using 'scorer' as the scoring method using GridSearchCV()\n",
    "grid_obj = GridSearchCV(clf, parameters, scoring = scorer, cv = 3, n_jobs = -1, verbose = 10)\n",
    "\n",
    "# Fit the grid search object to the training data and find the optimal parameters using fit()\n",
    "grid_fit = grid_obj.fit(X_train, y_train)\n",
    "\n",
    "# Get the estimator\n",
    "best_clf = grid_fit.best_estimator_\n",
    "\n",
    "# Make predictions using the unoptimized and model\n",
    "predictions = (clf.fit(X_train, y_train)).predict(X_test)\n",
    "best_predictions = best_clf.predict(X_test)\n",
    "\n",
    "# Report the before-and-afterscores\n",
    "print(\"Unoptimized model\\n------\")\n",
    "print(\"Accuracy score on testing data: {:.4f}\".format(accuracy_score(y_test, predictions)))\n",
    "print(\"F-score on testing data: {:.4f}\".format(fbeta_score(y_test, predictions, beta = 0.5)))\n",
    "print(\"\\nOptimized Model\\n------\")\n",
    "print(\"Final accuracy score on the testing data: {:.4f}\".format(accuracy_score(y_test, best_predictions)))\n",
    "print(\"Final F-score on the testing data: {:.4f}\".format(fbeta_score(y_test, best_predictions, beta = 0.5)))"
   ]
  },
  {
   "cell_type": "code",
   "execution_count": 13,
   "metadata": {},
   "outputs": [
    {
     "name": "stdout",
     "output_type": "stream",
     "text": [
      "The parameters of the best classifier: \n"
     ]
    },
    {
     "data": {
      "text/plain": [
       "GradientBoostingClassifier(criterion='friedman_mse', init=None,\n",
       "              learning_rate=0.2, loss='deviance', max_depth=2,\n",
       "              max_features=None, max_leaf_nodes=None,\n",
       "              min_impurity_decrease=0.0, min_impurity_split=None,\n",
       "              min_samples_leaf=1, min_samples_split=2,\n",
       "              min_weight_fraction_leaf=0.0, n_estimators=400,\n",
       "              presort='auto', random_state=42, subsample=1.0, verbose=0,\n",
       "              warm_start=False)"
      ]
     },
     "execution_count": 13,
     "metadata": {},
     "output_type": "execute_result"
    }
   ],
   "source": [
    "print('The parameters of the best classifier: ')\n",
    "best_clf"
   ]
  },
  {
   "cell_type": "markdown",
   "metadata": {},
   "source": [
    "### Question 5 - Final Model Evaluation\n",
    "\n",
    "* What is your optimized model's accuracy and F-score on the testing data? \n",
    "* Are these scores better or worse than the unoptimized model? \n",
    "* How do the results from your optimized model compare to the naive predictor benchmarks you found earlier in **Question 1**?_  \n",
    "\n",
    "**Note:** Fill in the table below with your results, and then provide discussion in the **Answer** box."
   ]
  },
  {
   "cell_type": "markdown",
   "metadata": {},
   "source": [
    "#### Results:\n",
    "\n",
    "|     Metric     | Unoptimized Model | Optimized Model |\n",
    "| :------------: | :---------------: | :-------------: | \n",
    "| Accuracy Score | 0.8630            | 0.8727          |\n",
    "| F-score        | 0.7395            | 0.7562          |\n"
   ]
  },
  {
   "cell_type": "markdown",
   "metadata": {},
   "source": [
    "**Answer: **  \n",
    "\n",
    "The grid search improved model performance in both the accuracy and and F-score metrics.  A grid of 36 combinations of parameters that varied max_depth, n_estimators, and learning_rate was evaluated using a three-fold cross validation for a total of 108 models trained.  Evaluating all the models took about 22 minutes using a four-core online kernel.  \n",
    "\n",
    "The best classifier differed from the default model values by using a greater max_depth in the tree estimators and using more estimators.  A greater max_depth in the tree estimators would probably lead to more variance.  The greater number of estimators should have more bias.  Unfortunately, both these parameters increase the size of the model, the number of parameters calculated, the number of estimators trained and used for prediction, and therefore increase training and prediction time.  \n",
    "\n",
    "Though a better performing model may win competitions, I think a simpler model like Logistic Regression may have deserved more consideration because I would have been able to develop more design iterations on it."
   ]
  },
  {
   "cell_type": "markdown",
   "metadata": {},
   "source": [
    "----\n",
    "## Feature Importance\n",
    "\n",
    "An important task when performing supervised learning on a dataset like the census data we study here is determining which features provide the most predictive power. By focusing on the relationship between only a few crucial features and the target label we simplify our understanding of the phenomenon, which is most always a useful thing to do. In the case of this project, that means we wish to identify a small number of features that most strongly predict whether an individual makes at most or more than \\$50,000.\n",
    "\n",
    "Choose a scikit-learn classifier (e.g., adaboost, random forests) that has a `feature_importance_` attribute, which is a function that ranks the importance of features according to the chosen classifier.  In the next python cell fit this classifier to training set and use this attribute to determine the top 5 most important features for the census dataset."
   ]
  },
  {
   "cell_type": "markdown",
   "metadata": {},
   "source": [
    "### Question 6 - Feature Relevance Observation\n",
    "When **Exploring the Data**, it was shown there are thirteen available features for each individual on record in the census data. Of these thirteen records, which five features do you believe to be most important for prediction, and in what order would you rank them and why?"
   ]
  },
  {
   "cell_type": "markdown",
   "metadata": {},
   "source": [
    "**Answer:**  \n",
    "\n",
    "Not having done any exploratory data analysis, which is a typical first step in a data science project, I can only assume that income would be related to money-related metrics such as capital-gain, and capital-loss.  After that, I supposed education-num usually correlates positively with income.  Finally, since really wealthy people are overwhelmingly white males, I think that race and sex would be important for prediction.  In no particular order, I suspect these are the five most important features:\n",
    "- captial-gain  \n",
    "- capital-loss\n",
    "- education-num\n",
    "- sex\n",
    "- race  \n",
    "\n",
    "One really easy way to get a sense of how important features are is to calculate the pearson's correlation coefficent for each of the features and income."
   ]
  },
  {
   "cell_type": "code",
   "execution_count": 14,
   "metadata": {},
   "outputs": [
    {
     "name": "stdout",
     "output_type": "stream",
     "text": [
      "The features with the strongest positive or negative correlations with income:\n"
     ]
    },
    {
     "data": {
      "text/plain": [
       "marital-status_ Married-civ-spouse    0.446192\n",
       "relationship_ Husband                 0.403706\n",
       "education-num                         0.332800\n",
       "capital-gain                          0.287740\n",
       "marital-status_ Never-married        -0.319536\n",
       "Name: income, dtype: float64"
      ]
     },
     "execution_count": 14,
     "metadata": {},
     "output_type": "execute_result"
    }
   ],
   "source": [
    "# Find features that correlate strongly with income\n",
    "df_all_features = features_final.copy()\n",
    "df_all_features['income'] = income \n",
    "strongest_correllations = np.abs(df_all_features.corr()['income']).sort_values(ascending= False)[1:6]\n",
    "print(\"The features with the strongest positive or negative correlations with income:\")\n",
    "df_all_features.corr()['income'][strongest_correllations.index].sort_values(ascending=False)\n"
   ]
  },
  {
   "cell_type": "markdown",
   "metadata": {},
   "source": [
    "Surprisingly to me, the strongest correlation to income was with the marital-status feature.  Those who are married positively correlated with high income and those who never married are in the lower income class.  Though sex wasn't in the top five correlations, being a Husband has a strong positive correlation.  Education-num and capital-gain, both monetary related features both had high positive correlations with income."
   ]
  },
  {
   "cell_type": "markdown",
   "metadata": {},
   "source": [
    "### Implementation - Extracting Feature Importance\n",
    "Choose a `scikit-learn` supervised learning algorithm that has a `feature_importance_` attribute availble for it. This attribute is a function that ranks the importance of each feature when making predictions based on the chosen algorithm.\n",
    "\n",
    "In the code cell below, you will need to implement the following:\n",
    " - Import a supervised learning model from sklearn if it is different from the three used earlier.\n",
    " - Train the supervised model on the entire training set.\n",
    " - Extract the feature importances using `'.feature_importances_'`."
   ]
  },
  {
   "cell_type": "code",
   "execution_count": 15,
   "metadata": {},
   "outputs": [
    {
     "name": "stdout",
     "output_type": "stream",
     "text": [
      "      Iter       Train Loss   Remaining Time \n",
      "         1           1.0064           30.16s\n",
      "         2           0.9344           30.26s\n",
      "         3           0.8833           31.05s\n",
      "         4           0.8493           30.79s\n",
      "         5           0.8260           28.16s\n",
      "         6           0.8032           27.45s\n",
      "         7           0.7811           27.95s\n",
      "         8           0.7649           27.99s\n",
      "         9           0.7518           27.65s\n",
      "        10           0.7376           27.92s\n",
      "        20           0.6722           25.46s\n",
      "        30           0.6463           24.20s\n",
      "        40           0.6326           22.57s\n",
      "        50           0.6217           21.23s\n",
      "        60           0.6149           20.26s\n",
      "        70           0.6082           18.98s\n",
      "        80           0.6030           18.13s\n",
      "        90           0.5994           17.54s\n",
      "       100           0.5944           16.85s\n",
      "       200           0.5699           10.76s\n",
      "       300           0.5565            5.26s\n",
      "       400           0.5477            0.00s\n"
     ]
    },
    {
     "data": {
      "image/png": "[encoded data removed]",
      "text/plain": [
       "<matplotlib.figure.Figure at 0x7f0a767b91d0>"
      ]
     },
     "metadata": {
      "needs_background": "light"
     },
     "output_type": "display_data"
    }
   ],
   "source": [
    "# Import a supervised learning model that has 'feature_importances_'\n",
    "model = best_clf\n",
    "model.verbose =1\n",
    "\n",
    "# Train the supervised model on the training set using .fit(X_train, y_train)\n",
    "model.fit(X_train, y_train)\n",
    "\n",
    "# Extract the feature importances using .feature_importances_ \n",
    "importances = model.feature_importances_\n",
    "\n",
    "# Plot\n",
    "vs.feature_plot(importances, X_train, y_train)"
   ]
  },
  {
   "cell_type": "markdown",
   "metadata": {},
   "source": [
    "### Question 7 - Extracting Feature Importance\n",
    "\n",
    "Observe the visualization created above which displays the five most relevant features for predicting if an individual makes at most or above \\$50,000.  \n",
    "* How do these five features compare to the five features you discussed in **Question 6**?\n",
    "* If you were close to the same answer, how does this visualization confirm your thoughts? \n",
    "* If you were not close, why do you think these features are more relevant?"
   ]
  },
  {
   "cell_type": "markdown",
   "metadata": {},
   "source": [
    "**Answer:**  \n",
    "I did correctly predict that capital-gain and capital loss because they are monetary related would be important.  My assumption about education-num and income was also a good hunch.  I did not think that being married would be so important.  This would be an interesting topic to study outside of this project.  Age is also an important feature, presumably you earn more the older you are.  My predictions about sex and race turned out not to be true.  Perhaps I was being too cynical about wealth distribution in our society."
   ]
  },
  {
   "cell_type": "markdown",
   "metadata": {},
   "source": [
    "### Feature Selection\n",
    "How does a model perform if we only use a subset of all the available features in the data? With less features required to train, the expectation is that training and prediction time is much lower — at the cost of performance metrics. From the visualization above, we see that the top five most important features contribute more than half of the importance of **all** features present in the data. This hints that we can attempt to *reduce the feature space* and simplify the information required for the model to learn. The code cell below will use the same optimized model you found earlier, and train it on the same training set *with only the top five important features*. "
   ]
  },
  {
   "cell_type": "code",
   "execution_count": 16,
   "metadata": {},
   "outputs": [
    {
     "name": "stdout",
     "output_type": "stream",
     "text": [
      "      Iter       Train Loss   Remaining Time \n",
      "         1           1.0464            4.06s\n",
      "         2           1.0023            4.32s\n",
      "         3           0.9658            4.27s\n",
      "         4           0.9392            4.34s\n",
      "         5           0.9164            4.31s\n",
      "         6           0.8973            4.20s\n",
      "         7           0.8775            4.19s\n",
      "         8           0.8635            4.26s\n",
      "         9           0.8521            4.16s\n",
      "        10           0.8429            4.25s\n",
      "        20           0.7863            4.11s\n",
      "        30           0.7663            3.91s\n",
      "        40           0.7509            3.71s\n",
      "        50           0.7431            3.59s\n",
      "        60           0.7364            3.48s\n",
      "        70           0.7309            3.35s\n",
      "        80           0.7281            3.25s\n",
      "        90           0.7231            3.13s\n",
      "       100           0.7183            3.01s\n",
      "       200           0.6986            1.93s\n",
      "       300           0.6914            0.94s\n",
      "       400           0.6861            0.00s\n",
      "Final Model trained on full data\n",
      "------\n",
      "Accuracy on testing data: 0.8699\n",
      "F-score on testing data: 0.7512\n",
      "\n",
      "Final Model trained on reduced data\n",
      "------\n",
      "Accuracy on testing data: 0.8421\n",
      "F-score on testing data: 0.6986\n"
     ]
    }
   ],
   "source": [
    "# Import functionality for cloning a model\n",
    "from sklearn.base import clone\n",
    "\n",
    "# Reduce the feature space\n",
    "X_train_reduced = X_train[X_train.columns.values[(np.argsort(importances)[::-1])[:5]]]\n",
    "X_test_reduced = X_test[X_test.columns.values[(np.argsort(importances)[::-1])[:5]]]\n",
    "\n",
    "# Train on the \"best\" model found from grid search earlier\n",
    "clf = (clone(best_clf)).fit(X_train_reduced, y_train)\n",
    "\n",
    "# Make new predictions\n",
    "reduced_predictions = clf.predict(X_test_reduced)\n",
    "\n",
    "# Report scores from the final model using both versions of data\n",
    "print(\"Final Model trained on full data\\n------\")\n",
    "print(\"Accuracy on testing data: {:.4f}\".format(accuracy_score(y_test, best_predictions)))\n",
    "print(\"F-score on testing data: {:.4f}\".format(fbeta_score(y_test, best_predictions, beta = 0.5)))\n",
    "print(\"\\nFinal Model trained on reduced data\\n------\")\n",
    "print(\"Accuracy on testing data: {:.4f}\".format(accuracy_score(y_test, reduced_predictions)))\n",
    "print(\"F-score on testing data: {:.4f}\".format(fbeta_score(y_test, reduced_predictions, beta = 0.5)))"
   ]
  },
  {
   "cell_type": "markdown",
   "metadata": {},
   "source": [
    "### Question 8 - Effects of Feature Selection\n",
    "\n",
    "* How does the final model's F-score and accuracy score on the reduced data using only five features compare to those same scores when all features are used?\n",
    "* If training time was a factor, would you consider using the reduced data as your training set?"
   ]
  },
  {
   "cell_type": "markdown",
   "metadata": {},
   "source": [
    "**Answer:**  \n",
    "Well, the accuracy and F-score decreased using the reduced data.  Training took about 20% of the time it took for the full data set.  If training time were a factor, fewer features would be an appealing option.  I don't think training time is much of an issue though since the model can reliably train itself during the time it takes me to eat lunch.  If training was unstable or took longer than overnight, then training time would be a consideration for me."
   ]
  },
  {
   "cell_type": "markdown",
   "metadata": {},
   "source": [
    "> **Note**: Once you have completed all of the code implementations and successfully answered each question above, you may finalize your work by exporting the iPython Notebook as an HTML document. You can do this by using the menu above and navigating to  \n",
    "**File -> Download as -> HTML (.html)**. Include the finished document along with this notebook as your submission."
   ]
  }
 ],
 "metadata": {
  "kernelspec": {
   "display_name": "Python 3",
   "language": "python",
   "name": "python3"
  },
  "language_info": {
   "codemirror_mode": {
    "name": "ipython",
    "version": 3
   },
   "file_extension": ".py",
   "mimetype": "text/x-python",
   "name": "python",
   "nbconvert_exporter": "python",
   "pygments_lexer": "ipython3",
   "version": "3.6.3"
  }
 },
 "nbformat": 4,
 "nbformat_minor": 1
}
