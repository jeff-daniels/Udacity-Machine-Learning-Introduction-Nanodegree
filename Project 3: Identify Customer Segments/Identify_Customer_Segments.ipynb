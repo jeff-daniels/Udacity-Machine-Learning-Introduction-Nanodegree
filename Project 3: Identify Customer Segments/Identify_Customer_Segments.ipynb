{
 "cells": [
  {
   "cell_type": "markdown",
   "metadata": {},
   "source": [
    "# Project: Identify Customer Segments\n",
    "\n",
    "In this project, you will apply unsupervised learning techniques to identify segments of the population that form the core customer base for a mail-order sales company in Germany. These segments can then be used to direct marketing campaigns towards audiences that will have the highest expected rate of returns. The data that you will use has been provided by our partners at Bertelsmann Arvato Analytics, and represents a real-life data science task.\n",
    "\n",
    "This notebook will help you complete this task by providing a framework within which you will perform your analysis steps. In each step of the project, you will see some text describing the subtask that you will perform, followed by one or more code cells for you to complete your work. **Feel free to add additional code and markdown cells as you go along so that you can explore everything in precise chunks.** The code cells provided in the base template will outline only the major tasks, and will usually not be enough to cover all of the minor tasks that comprise it.\n",
    "\n",
    "It should be noted that while there will be precise guidelines on how you should handle certain tasks in the project, there will also be places where an exact specification is not provided. **There will be times in the project where you will need to make and justify your own decisions on how to treat the data.** These are places where there may not be only one way to handle the data. In real-life tasks, there may be many valid ways to approach an analysis task. One of the most important things you can do is clearly document your approach so that other scientists can understand the decisions you've made.\n",
    "\n",
    "At the end of most sections, there will be a Markdown cell labeled **Discussion**. In these cells, you will report your findings for the completed section, as well as document the decisions that you made in your approach to each subtask. **Your project will be evaluated not just on the code used to complete the tasks outlined, but also your communication about your observations and conclusions at each stage.**"
   ]
  },
  {
   "cell_type": "code",
   "execution_count": 67,
   "metadata": {},
   "outputs": [],
   "source": [
    "# import libraries here; add more as necessary\n",
    "import time\n",
    "notebook_tic = time.time()\n",
    "import numpy as np\n",
    "import pandas as pd\n",
    "import matplotlib.pyplot as plt\n",
    "import seaborn as sns\n",
    "from sklearn.preprocessing import OneHotEncoder, LabelEncoder, StandardScaler\n",
    "from sklearn.decomposition import PCA\n",
    "from sklearn.cluster import KMeans\n",
    "\n",
    "# magic word for producing visualizations in notebook\n",
    "%matplotlib inline"
   ]
  },
  {
   "cell_type": "code",
   "execution_count": 68,
   "metadata": {},
   "outputs": [],
   "source": [
    "DEV_MODE = True"
   ]
  },
  {
   "cell_type": "markdown",
   "metadata": {},
   "source": [
    "### Step 0: Load the Data\n",
    "\n",
    "There are four files associated with this project (not including this one):\n",
    "\n",
    "- `Udacity_AZDIAS_Subset.csv`: Demographics data for the general population of Germany; 891211 persons (rows) x 85 features (columns).\n",
    "- `Udacity_CUSTOMERS_Subset.csv`: Demographics data for customers of a mail-order company; 191652 persons (rows) x 85 features (columns).\n",
    "- `Data_Dictionary.md`: Detailed information file about the features in the provided datasets.\n",
    "- `AZDIAS_Feature_Summary.csv`: Summary of feature attributes for demographics data; 85 features (rows) x 4 columns\n",
    "\n",
    "Each row of the demographics files represents a single person, but also includes information outside of individuals, including information about their household, building, and neighborhood. You will use this information to cluster the general population into groups with similar demographic properties. Then, you will see how the people in the customers dataset fit into those created clusters. The hope here is that certain clusters are over-represented in the customers data, as compared to the general population; those over-represented clusters will be assumed to be part of the core userbase. This information can then be used for further applications, such as targeting for a marketing campaign.\n",
    "\n",
    "To start off with, load in the demographics data for the general population into a pandas DataFrame, and do the same for the feature attributes summary. Note for all of the `.csv` data files in this project: they're semicolon (`;`) delimited, so you'll need an additional argument in your [`read_csv()`](https://pandas.pydata.org/pandas-docs/stable/generated/pandas.read_csv.html) call to read in the data properly. Also, considering the size of the main dataset, it may take some time for it to load completely.\n",
    "\n",
    "Once the dataset is loaded, it's recommended that you take a little bit of time just browsing the general structure of the dataset and feature summary file. You'll be getting deep into the innards of the cleaning in the first major step of the project, so gaining some general familiarity can help you get your bearings."
   ]
  },
  {
   "cell_type": "code",
   "execution_count": 69,
   "metadata": {},
   "outputs": [
    {
     "name": "stdout",
     "output_type": "stream",
     "text": [
      "CPU times: user 8.08 s, sys: 1.82 s, total: 9.9 s\n",
      "Wall time: 17.8 s\n"
     ]
    }
   ],
   "source": [
    "%%time\n",
    "# Load in the general demographics data.\n",
    "gen_original = pd.read_csv('Udacity_AZDIAS_Subset.csv', delimiter=';')\n",
    "gen = gen_original.copy()\n",
    "# Load in the feature summary file.\n",
    "feats = pd.read_csv('AZDIAS_Feature_Summary.csv', delimiter=';')"
   ]
  },
  {
   "cell_type": "code",
   "execution_count": 70,
   "metadata": {},
   "outputs": [
    {
     "name": "stdout",
     "output_type": "stream",
     "text": [
      "<class 'pandas.core.frame.DataFrame'>\n",
      "RangeIndex: 891221 entries, 0 to 891220\n",
      "Columns: 85 entries, AGER_TYP to RELAT_AB\n",
      "dtypes: float64(49), int64(32), object(4)\n",
      "memory usage: 578.0+ MB\n"
     ]
    }
   ],
   "source": [
    "gen.info(verbose=False)"
   ]
  },
  {
   "cell_type": "code",
   "execution_count": 71,
   "metadata": {},
   "outputs": [
    {
     "name": "stdout",
     "output_type": "stream",
     "text": [
      "Columns of type object: ['OST_WEST_KZ', 'CAMEO_DEUG_2015', 'CAMEO_DEU_2015', 'CAMEO_INTL_2015']\n",
      "These may need label encoding\n"
     ]
    }
   ],
   "source": [
    "object_types = list(gen.select_dtypes(include=['object']).columns)\n",
    "print('Columns of type object: {}'.format(object_types))\n",
    "print('These may need label encoding')"
   ]
  },
  {
   "cell_type": "code",
   "execution_count": 72,
   "metadata": {},
   "outputs": [
    {
     "data": {
      "text/html": [
       "<div>\n",
       "<style scoped>\n",
       "    .dataframe tbody tr th:only-of-type {\n",
       "        vertical-align: middle;\n",
       "    }\n",
       "\n",
       "    .dataframe tbody tr th {\n",
       "        vertical-align: top;\n",
       "    }\n",
       "\n",
       "    .dataframe thead th {\n",
       "        text-align: right;\n",
       "    }\n",
       "</style>\n",
       "<table border=\"1\" class=\"dataframe\">\n",
       "  <thead>\n",
       "    <tr style=\"text-align: right;\">\n",
       "      <th></th>\n",
       "      <th>AGER_TYP</th>\n",
       "      <th>ALTERSKATEGORIE_GROB</th>\n",
       "      <th>ANREDE_KZ</th>\n",
       "      <th>CJT_GESAMTTYP</th>\n",
       "      <th>FINANZ_MINIMALIST</th>\n",
       "      <th>FINANZ_SPARER</th>\n",
       "      <th>FINANZ_VORSORGER</th>\n",
       "      <th>FINANZ_ANLEGER</th>\n",
       "      <th>FINANZ_UNAUFFAELLIGER</th>\n",
       "      <th>FINANZ_HAUSBAUER</th>\n",
       "      <th>...</th>\n",
       "      <th>PLZ8_ANTG1</th>\n",
       "      <th>PLZ8_ANTG2</th>\n",
       "      <th>PLZ8_ANTG3</th>\n",
       "      <th>PLZ8_ANTG4</th>\n",
       "      <th>PLZ8_BAUMAX</th>\n",
       "      <th>PLZ8_HHZ</th>\n",
       "      <th>PLZ8_GBZ</th>\n",
       "      <th>ARBEIT</th>\n",
       "      <th>ORTSGR_KLS9</th>\n",
       "      <th>RELAT_AB</th>\n",
       "    </tr>\n",
       "  </thead>\n",
       "  <tbody>\n",
       "    <tr>\n",
       "      <th>0</th>\n",
       "      <td>-1</td>\n",
       "      <td>2</td>\n",
       "      <td>1</td>\n",
       "      <td>2.0</td>\n",
       "      <td>3</td>\n",
       "      <td>4</td>\n",
       "      <td>3</td>\n",
       "      <td>5</td>\n",
       "      <td>5</td>\n",
       "      <td>3</td>\n",
       "      <td>...</td>\n",
       "      <td>NaN</td>\n",
       "      <td>NaN</td>\n",
       "      <td>NaN</td>\n",
       "      <td>NaN</td>\n",
       "      <td>NaN</td>\n",
       "      <td>NaN</td>\n",
       "      <td>NaN</td>\n",
       "      <td>NaN</td>\n",
       "      <td>NaN</td>\n",
       "      <td>NaN</td>\n",
       "    </tr>\n",
       "    <tr>\n",
       "      <th>1</th>\n",
       "      <td>-1</td>\n",
       "      <td>1</td>\n",
       "      <td>2</td>\n",
       "      <td>5.0</td>\n",
       "      <td>1</td>\n",
       "      <td>5</td>\n",
       "      <td>2</td>\n",
       "      <td>5</td>\n",
       "      <td>4</td>\n",
       "      <td>5</td>\n",
       "      <td>...</td>\n",
       "      <td>2.0</td>\n",
       "      <td>3.0</td>\n",
       "      <td>2.0</td>\n",
       "      <td>1.0</td>\n",
       "      <td>1.0</td>\n",
       "      <td>5.0</td>\n",
       "      <td>4.0</td>\n",
       "      <td>3.0</td>\n",
       "      <td>5.0</td>\n",
       "      <td>4.0</td>\n",
       "    </tr>\n",
       "    <tr>\n",
       "      <th>2</th>\n",
       "      <td>-1</td>\n",
       "      <td>3</td>\n",
       "      <td>2</td>\n",
       "      <td>3.0</td>\n",
       "      <td>1</td>\n",
       "      <td>4</td>\n",
       "      <td>1</td>\n",
       "      <td>2</td>\n",
       "      <td>3</td>\n",
       "      <td>5</td>\n",
       "      <td>...</td>\n",
       "      <td>3.0</td>\n",
       "      <td>3.0</td>\n",
       "      <td>1.0</td>\n",
       "      <td>0.0</td>\n",
       "      <td>1.0</td>\n",
       "      <td>4.0</td>\n",
       "      <td>4.0</td>\n",
       "      <td>3.0</td>\n",
       "      <td>5.0</td>\n",
       "      <td>2.0</td>\n",
       "    </tr>\n",
       "    <tr>\n",
       "      <th>3</th>\n",
       "      <td>2</td>\n",
       "      <td>4</td>\n",
       "      <td>2</td>\n",
       "      <td>2.0</td>\n",
       "      <td>4</td>\n",
       "      <td>2</td>\n",
       "      <td>5</td>\n",
       "      <td>2</td>\n",
       "      <td>1</td>\n",
       "      <td>2</td>\n",
       "      <td>...</td>\n",
       "      <td>2.0</td>\n",
       "      <td>2.0</td>\n",
       "      <td>2.0</td>\n",
       "      <td>0.0</td>\n",
       "      <td>1.0</td>\n",
       "      <td>3.0</td>\n",
       "      <td>4.0</td>\n",
       "      <td>2.0</td>\n",
       "      <td>3.0</td>\n",
       "      <td>3.0</td>\n",
       "    </tr>\n",
       "    <tr>\n",
       "      <th>4</th>\n",
       "      <td>-1</td>\n",
       "      <td>3</td>\n",
       "      <td>1</td>\n",
       "      <td>5.0</td>\n",
       "      <td>4</td>\n",
       "      <td>3</td>\n",
       "      <td>4</td>\n",
       "      <td>1</td>\n",
       "      <td>3</td>\n",
       "      <td>2</td>\n",
       "      <td>...</td>\n",
       "      <td>2.0</td>\n",
       "      <td>4.0</td>\n",
       "      <td>2.0</td>\n",
       "      <td>1.0</td>\n",
       "      <td>2.0</td>\n",
       "      <td>3.0</td>\n",
       "      <td>3.0</td>\n",
       "      <td>4.0</td>\n",
       "      <td>6.0</td>\n",
       "      <td>5.0</td>\n",
       "    </tr>\n",
       "  </tbody>\n",
       "</table>\n",
       "<p>5 rows × 85 columns</p>\n",
       "</div>"
      ],
      "text/plain": [
       "   AGER_TYP  ALTERSKATEGORIE_GROB  ANREDE_KZ  CJT_GESAMTTYP  \\\n",
       "0        -1                     2          1            2.0   \n",
       "1        -1                     1          2            5.0   \n",
       "2        -1                     3          2            3.0   \n",
       "3         2                     4          2            2.0   \n",
       "4        -1                     3          1            5.0   \n",
       "\n",
       "   FINANZ_MINIMALIST  FINANZ_SPARER  FINANZ_VORSORGER  FINANZ_ANLEGER  \\\n",
       "0                  3              4                 3               5   \n",
       "1                  1              5                 2               5   \n",
       "2                  1              4                 1               2   \n",
       "3                  4              2                 5               2   \n",
       "4                  4              3                 4               1   \n",
       "\n",
       "   FINANZ_UNAUFFAELLIGER  FINANZ_HAUSBAUER    ...     PLZ8_ANTG1  PLZ8_ANTG2  \\\n",
       "0                      5                 3    ...            NaN         NaN   \n",
       "1                      4                 5    ...            2.0         3.0   \n",
       "2                      3                 5    ...            3.0         3.0   \n",
       "3                      1                 2    ...            2.0         2.0   \n",
       "4                      3                 2    ...            2.0         4.0   \n",
       "\n",
       "   PLZ8_ANTG3  PLZ8_ANTG4  PLZ8_BAUMAX  PLZ8_HHZ  PLZ8_GBZ  ARBEIT  \\\n",
       "0         NaN         NaN          NaN       NaN       NaN     NaN   \n",
       "1         2.0         1.0          1.0       5.0       4.0     3.0   \n",
       "2         1.0         0.0          1.0       4.0       4.0     3.0   \n",
       "3         2.0         0.0          1.0       3.0       4.0     2.0   \n",
       "4         2.0         1.0          2.0       3.0       3.0     4.0   \n",
       "\n",
       "   ORTSGR_KLS9  RELAT_AB  \n",
       "0          NaN       NaN  \n",
       "1          5.0       4.0  \n",
       "2          5.0       2.0  \n",
       "3          3.0       3.0  \n",
       "4          6.0       5.0  \n",
       "\n",
       "[5 rows x 85 columns]"
      ]
     },
     "execution_count": 72,
     "metadata": {},
     "output_type": "execute_result"
    }
   ],
   "source": [
    "gen.head()"
   ]
  },
  {
   "cell_type": "code",
   "execution_count": 73,
   "metadata": {},
   "outputs": [],
   "source": [
    "if not DEV_MODE:\n",
    "    gen.describe()"
   ]
  },
  {
   "cell_type": "code",
   "execution_count": 74,
   "metadata": {},
   "outputs": [
    {
     "data": {
      "text/html": [
       "<div>\n",
       "<style scoped>\n",
       "    .dataframe tbody tr th:only-of-type {\n",
       "        vertical-align: middle;\n",
       "    }\n",
       "\n",
       "    .dataframe tbody tr th {\n",
       "        vertical-align: top;\n",
       "    }\n",
       "\n",
       "    .dataframe thead th {\n",
       "        text-align: right;\n",
       "    }\n",
       "</style>\n",
       "<table border=\"1\" class=\"dataframe\">\n",
       "  <thead>\n",
       "    <tr style=\"text-align: right;\">\n",
       "      <th></th>\n",
       "      <th>attribute</th>\n",
       "      <th>information_level</th>\n",
       "      <th>type</th>\n",
       "      <th>missing_or_unknown</th>\n",
       "    </tr>\n",
       "  </thead>\n",
       "  <tbody>\n",
       "    <tr>\n",
       "      <th>0</th>\n",
       "      <td>AGER_TYP</td>\n",
       "      <td>person</td>\n",
       "      <td>categorical</td>\n",
       "      <td>[-1,0]</td>\n",
       "    </tr>\n",
       "    <tr>\n",
       "      <th>1</th>\n",
       "      <td>ALTERSKATEGORIE_GROB</td>\n",
       "      <td>person</td>\n",
       "      <td>ordinal</td>\n",
       "      <td>[-1,0,9]</td>\n",
       "    </tr>\n",
       "    <tr>\n",
       "      <th>2</th>\n",
       "      <td>ANREDE_KZ</td>\n",
       "      <td>person</td>\n",
       "      <td>categorical</td>\n",
       "      <td>[-1,0]</td>\n",
       "    </tr>\n",
       "    <tr>\n",
       "      <th>3</th>\n",
       "      <td>CJT_GESAMTTYP</td>\n",
       "      <td>person</td>\n",
       "      <td>categorical</td>\n",
       "      <td>[0]</td>\n",
       "    </tr>\n",
       "    <tr>\n",
       "      <th>4</th>\n",
       "      <td>FINANZ_MINIMALIST</td>\n",
       "      <td>person</td>\n",
       "      <td>ordinal</td>\n",
       "      <td>[-1]</td>\n",
       "    </tr>\n",
       "  </tbody>\n",
       "</table>\n",
       "</div>"
      ],
      "text/plain": [
       "              attribute information_level         type missing_or_unknown\n",
       "0              AGER_TYP            person  categorical             [-1,0]\n",
       "1  ALTERSKATEGORIE_GROB            person      ordinal           [-1,0,9]\n",
       "2             ANREDE_KZ            person  categorical             [-1,0]\n",
       "3         CJT_GESAMTTYP            person  categorical                [0]\n",
       "4     FINANZ_MINIMALIST            person      ordinal               [-1]"
      ]
     },
     "execution_count": 74,
     "metadata": {},
     "output_type": "execute_result"
    }
   ],
   "source": [
    "feats.head()"
   ]
  },
  {
   "cell_type": "markdown",
   "metadata": {},
   "source": [
    "> **Tip**: Add additional cells to keep everything in reasonably-sized chunks! Keyboard shortcut `esc --> a` (press escape to enter command mode, then press the 'A' key) adds a new cell before the active cell, and `esc --> b` adds a new cell after the active cell. If you need to convert an active cell to a markdown cell, use `esc --> m` and to convert to a code cell, use `esc --> y`. \n",
    "\n",
    "## Step 1: Preprocessing\n",
    "\n",
    "### Step 1.1: Assess Missing Data\n",
    "\n",
    "The feature summary file contains a summary of properties for each demographics data column. You will use this file to help you make cleaning decisions during this stage of the project. First of all, you should assess the demographics data in terms of missing data. Pay attention to the following points as you perform your analysis, and take notes on what you observe. Make sure that you fill in the **Discussion** cell with your findings and decisions at the end of each step that has one!\n",
    "\n",
    "#### Step 1.1.1: Convert Missing Value Codes to NaNs\n",
    "The fourth column of the feature attributes summary (loaded in above as `feat_info`) documents the codes from the data dictionary that indicate missing or unknown data. While the file encodes this as a list (e.g. `[-1,0]`), this will get read in as a string object. You'll need to do a little bit of parsing to make use of it to identify and clean the data. Convert data that matches a 'missing' or 'unknown' value code into a numpy NaN value. You might want to see how much data takes on a 'missing' or 'unknown' code, and how much data is naturally missing, as a point of interest.\n",
    "\n",
    "**As one more reminder, you are encouraged to add additional cells to break up your analysis into manageable chunks.**"
   ]
  },
  {
   "cell_type": "code",
   "execution_count": 75,
   "metadata": {},
   "outputs": [],
   "source": [
    "# Identify missing or unknown data values and convert them to NaNs."
   ]
  },
  {
   "cell_type": "code",
   "execution_count": 76,
   "metadata": {},
   "outputs": [],
   "source": [
    "def string_to_list(string):\n",
    "    \"\"\"convert string into a list of integers and strings\"\"\"\n",
    "    list_of_strings = (string.replace('[', '').replace(']', '').split(','))\n",
    "    for i in range(len(list_of_strings)):\n",
    "        if list_of_strings[i] in ['-1', '0', '9']:\n",
    "            list_of_strings[i] = int(list_of_strings[i])\n",
    "    return list_of_strings"
   ]
  },
  {
   "cell_type": "code",
   "execution_count": 77,
   "metadata": {},
   "outputs": [],
   "source": [
    "def convert_values_to_nan(df, features_df):\n",
    "    \"\"\"Convert values in Udacity_AZDIAS_Subset.csv that correspond to the list \n",
    "    'missing_or_unknown' in AZDIAS_Feature_Summary.csv\n",
    "    \"\"\"\n",
    "    # Convert features_df['missing_or_unknown'] from a string to a list\n",
    "    features_df['nulls'] = features_df['missing_or_unknown'].map(string_to_list)\n",
    "    \n",
    "    # Convert null values in df to np.nan\n",
    "    for col in list(df.columns):\n",
    "        list_of_nulls = list(features_df.loc[features_df.attribute==str(col)]['nulls'])[0]\n",
    "        df.loc[df[col].isin(list_of_nulls),col] = np.nan\n",
    "        \n",
    "    return df"
   ]
  },
  {
   "cell_type": "code",
   "execution_count": 78,
   "metadata": {},
   "outputs": [],
   "source": [
    "%%time\n",
    "gen_nulls = gen_original.copy()\n",
    "gen_nulls = convert_values_to_nan(gen_nulls, feats)"
   ]
  },
  {
   "cell_type": "markdown",
   "metadata": {},
   "source": [
    "#### Step 1.1.2: Assess Missing Data in Each Column\n",
    "\n",
    "How much missing data is present in each column? There are a few columns that are outliers in terms of the proportion of values that are missing. You will want to use matplotlib's [`hist()`](https://matplotlib.org/api/_as_gen/matplotlib.pyplot.hist.html) function to visualize the distribution of missing value counts to find these columns. Identify and document these columns. While some of these columns might have justifications for keeping or re-encoding the data, for this project you should just remove them from the dataframe. (Feel free to make remarks about these outlier columns in the discussion, however!)\n",
    "\n",
    "For the remaining features, are there any patterns in which columns have, or share, missing data?"
   ]
  },
  {
   "cell_type": "code",
   "execution_count": 79,
   "metadata": {},
   "outputs": [],
   "source": [
    "# Perform an assessment of how much missing data there is in each column of the\n",
    "# dataset.\n",
    "def get_null_percentage(df):\n",
    "    \"\"\"\n",
    "    Input: dataframe\n",
    "    Output: series with percentage of null values for each column\n",
    "    \"\"\"\n",
    "    null_perc = df.isnull().mean()*100\n",
    "    null_perc = null_perc.sort_values(ascending=False)\n",
    "    return null_perc\n",
    "\n",
    "if not DEV_MODE:\n",
    "    null_percentage = get_null_percentage(gen_nulls)"
   ]
  },
  {
   "cell_type": "code",
   "execution_count": 80,
   "metadata": {},
   "outputs": [],
   "source": [
    "# Investigate patterns in the amount of missing data in each column."
   ]
  },
  {
   "cell_type": "markdown",
   "metadata": {},
   "source": [
    "Most of the columns have a percentage of null values below 20%.  Six columns have proportions greater than 20%, sometimes much greater."
   ]
  },
  {
   "cell_type": "code",
   "execution_count": 81,
   "metadata": {},
   "outputs": [],
   "source": [
    "if not DEV_MODE:\n",
    "    plt.hist(null_percentage, bins = 20)\n",
    "    plt.title('Distribution of percentage null')\n",
    "    plt.ylabel('Number of Columns')\n",
    "    plt.xlabel('Percentage of Column that is null')\n",
    "    plt.show()"
   ]
  },
  {
   "cell_type": "code",
   "execution_count": 82,
   "metadata": {},
   "outputs": [],
   "source": [
    "if not DEV_MODE:\n",
    "    plt.figure(figsize=(16,5))\n",
    "    null_percentage.plot.bar()\n",
    "    plt.ylabel('Percentage Null')\n",
    "    plt.xlabel('Column Name')\n",
    "    plt.title('Percentage Null by column name')\n",
    "    plt.show()"
   ]
  },
  {
   "cell_type": "code",
   "execution_count": 83,
   "metadata": {},
   "outputs": [],
   "source": [
    "# List and describe columns with high percentage of null values\n",
    "if not DEV_MODE:\n",
    "    threshold = 20\n",
    "    outlier_df = pd.DataFrame(null_percentage[null_percentage>threshold], columns=['percent_null'])\n",
    "    outlier_df['description'] = ['Academic title flag',  \n",
    "                                 'Best-ager typology', \n",
    "                                 'Consumer pattern over past 12 months',  \n",
    "                                 'Most common building type within the microcell',  \n",
    "                                 'Year of birth',  \n",
    "                                 'Birthdate of head of household']\n",
    "\n",
    "    outlier_df"
   ]
  },
  {
   "cell_type": "code",
   "execution_count": 84,
   "metadata": {},
   "outputs": [],
   "source": [
    "# Remove the outlier columns from the dataset. (You'll perform other data\n",
    "# engineering tasks such as re-encoding and imputation later.)\n",
    "def get_outlier_columns(df, threshold):\n",
    "    \"\"\"\n",
    "    Returns a list of columns that have a percentage of null values\n",
    "    Above threshold\n",
    "    \"\"\"\n",
    "    null_perc = get_null_percentage(df)\n",
    "    outlier_columns = list(null_perc[null_perc > threshold].index)\n",
    "    \n",
    "    return outlier_columns\n",
    "\n",
    "def get_columns_to_drop(df, null_percentage_threshold=0):\n",
    "    columns_to_drop = []\n",
    "    columns_to_drop = list(set(columns_to_drop)|set(get_outlier_columns(df, null_percentage_threshold)))\n",
    "    \n",
    "    return columns_to_drop"
   ]
  },
  {
   "cell_type": "markdown",
   "metadata": {},
   "source": [
    "#### Discussion 1.1.2: Assess Missing Data in Each Column\n",
    "\n",
    "(Double click this cell and replace this text with your own text, reporting your observations regarding the amount of missing data in each column. Are there any patterns in missing values? Which columns were removed from the dataset?)  \n",
    "\n",
    "Most of the columns had a percentage of null values below 20%.  There were six columns that had more than this as summarized in the dataframe below.  TITEL_KZ is the academic title of the sample, so if most people are not professors or working at a university, this value will be missing a lot of the time.  AGER_TYP seems to be related to the behavior of elderly people so a lot of missing values here is reasonable.  KK_KUNDENTYPE is the consumer pattern, which might just be unknown due to sampling limitations.  Sampling limitations may also explain why KBA05_BAUMAX, the most common building type within the microcell is missing about half its values.  Interestingly, GEBURTSJAHR and ALTER_HH, birthday related columns, have a significant percentage of missing values which could mean people don't share this information easily.  "
   ]
  },
  {
   "cell_type": "markdown",
   "metadata": {},
   "source": [
    "#### Step 1.1.3: Assess Missing Data in Each Row\n",
    "\n",
    "Now, you'll perform a similar assessment for the rows of the dataset. How much data is missing in each row? As with the columns, you should see some groups of points that have a very different numbers of missing values. Divide the data into two subsets: one for data points that are above some threshold for missing values, and a second subset for points below that threshold.\n",
    "\n",
    "In order to know what to do with the outlier rows, we should see if the distribution of data values on columns that are not missing data (or are missing very little data) are similar or different between the two groups. Select at least five of these columns and compare the distribution of values.\n",
    "- You can use seaborn's [`countplot()`](https://seaborn.pydata.org/generated/seaborn.countplot.html) function to create a bar chart of code frequencies and matplotlib's [`subplot()`](https://matplotlib.org/api/_as_gen/matplotlib.pyplot.subplot.html) function to put bar charts for the two subplots side by side.\n",
    "- To reduce repeated code, you might want to write a function that can perform this comparison, taking as one of its arguments a column to be compared.\n",
    "\n",
    "Depending on what you observe in your comparison, this will have implications on how you approach your conclusions later in the analysis. If the distributions of non-missing features look similar between the data with many missing values and the data with few or no missing values, then we could argue that simply dropping those points from the analysis won't present a major issue. On the other hand, if the data with many missing values looks very different from the data with few or no missing values, then we should make a note on those data as special. We'll revisit these data later on. **Either way, you should continue your analysis for now using just the subset of the data with few or no missing values.**"
   ]
  },
  {
   "cell_type": "code",
   "execution_count": 85,
   "metadata": {},
   "outputs": [],
   "source": [
    "# How much data is missing in each row of the dataset?\n",
    "def get_percent_null_per_row(df):\n",
    "    \"\"\"\n",
    "    Returns a series 'percent_null' containing\n",
    "    percentage of columns in row with null values\n",
    "    \"\"\"\n",
    "    percent_null = df.isnull().sum(axis=1)/len(df.columns)*100\n",
    "    \n",
    "    return percent_null"
   ]
  },
  {
   "cell_type": "code",
   "execution_count": 86,
   "metadata": {},
   "outputs": [],
   "source": [
    "if not DEV_MODE:\n",
    "    gen_nulls['percent_null'] = get_percent_null_per_row(gen_nulls)\n",
    "    print('Percentage of rows with null values: {:.1f}'.format((gen_nulls['percent_null'] != 0).mean()*100))\n",
    "    plt.hist(gen_nulls['percent_null'])\n",
    "    plt.show()"
   ]
  },
  {
   "cell_type": "code",
   "execution_count": 87,
   "metadata": {},
   "outputs": [],
   "source": [
    "# Write code to divide the data into two subsets based on the number of missing\n",
    "# values in each row.\n",
    "def divide_dataframe(df, col_name, threshold):\n",
    "    df_below = df.loc[df[col_name] <= threshold]\n",
    "    df_above = df.loc[df[col_name] > threshold]\n",
    "    \n",
    "    return df_below, df_above\n",
    "\n",
    "if not DEV_MODE:\n",
    "    gen_below, gen_above = divide_dataframe(gen_nulls, 'percent_null', np.percentile(gen_nulls['percent_null'], 0.99))"
   ]
  },
  {
   "cell_type": "code",
   "execution_count": 88,
   "metadata": {},
   "outputs": [],
   "source": [
    "def get_rows_to_drop(df, null_percentage_threshold=None, null_percentile=None,\n",
    "                    verbose=False):\n",
    "    \"\"\"\n",
    "    returns a list of rows who percentage of null values is unacceptable\n",
    "    Either cuts off rows by a null_percentage threshold (0-100)\n",
    "    Or returns a percentage of the data (0-100)\n",
    "    \"\"\"\n",
    "    percent_null = get_percent_null_per_row(df)\n",
    "    if null_percentage_threshold is not None:\n",
    "        rows_to_drop = (percent_null >= null_percentage_threshold)\n",
    "        null_percentile = (1-rows_to_drop.mean())*100\n",
    "        \n",
    "    elif null_percentile is not None:\n",
    "        null_percentage_threshold = np.percentile(percent_null, null_percentile)\n",
    "        rows_to_drop = (percent_null >= null_percentage_threshold)\n",
    "    \n",
    "    else:\n",
    "        rows_to_drop = (percent_null < 0)\n",
    "        null_percentage_threshold = -1\n",
    "        null_percentile = -1\n",
    "    \n",
    "    if verbose:\n",
    "        print('In rows_to_drop: ')\n",
    "        print('Percentile of rows below threshold: {:.1f}'.format(null_percentile))\n",
    "        print('Threshold: {:.1f}'.format(null_percentage_threshold))\n",
    "    \n",
    "    return rows_to_drop, null_percentage_threshold, null_percentile"
   ]
  },
  {
   "cell_type": "code",
   "execution_count": 89,
   "metadata": {},
   "outputs": [],
   "source": [
    "# Compare the distribution of values for at least five columns where there are\n",
    "# no or few missing values, between the two subsets.\n",
    "if not DEV_MODE:\n",
    "    gen_above.isnull().mean().sort_values(ascending = True)[:40]"
   ]
  },
  {
   "cell_type": "code",
   "execution_count": 90,
   "metadata": {},
   "outputs": [],
   "source": [
    "def plot_comparison(df_b, df_a, cols):\n",
    "    n_col = len(cols)\n",
    "    plt.figure(figsize=(15, 5*n_col))\n",
    "    row=0\n",
    "    for col in cols:\n",
    "        plt.subplot(n_col, 2, row+1)\n",
    "        sns.countplot(df_b[col])\n",
    "        if row == 0:\n",
    "            plt.title('Below Threshold')\n",
    "        plt.subplot(n_col, 2, row+2)\n",
    "        sns.countplot(df_a[col])\n",
    "        if row == 0:\n",
    "            plt.title('Above Threshold')\n",
    "        row +=2\n",
    "    plt.show()\n",
    "\n",
    "if not DEV_MODE:\n",
    "    comparison_cols = ['SEMIO_MAT', 'PRAEGENDE_JUGENDJAHRE','SHOPPER_TYP', 'ANREDE_KZ', 'FINANZTYP']\n",
    "    plot_comparison(gen_below, gen_above, comparison_cols)"
   ]
  },
  {
   "cell_type": "markdown",
   "metadata": {},
   "source": [
    "#### Discussion 1.1.3: Assess Missing Data in Each Row\n",
    "\n",
    "(Double-click this cell and replace this text with your own text, reporting your observations regarding missing data in rows. Are the data with lots of missing values are qualitatively different from data with few or no missing values?)"
   ]
  },
  {
   "cell_type": "markdown",
   "metadata": {},
   "source": [
    "### Step 1.2: Fill in Null Values  \n",
    "\n",
    "Some cells already have numerically or character encoded values for values that are missing or unknown.  The approach I will take is to assign any null values to these pre-existing encodings.  Going through the columns in the AZDIAS_Feature_Summary, it seems like it is generally safe to set missing or unknown values to -1 for all features.  However, this may lose information.  It seems like there are categories for missing, unknown, and I don't know why there are null values.  Maybe assign this other type of null value to another value like -2.  This is the simplest."
   ]
  },
  {
   "cell_type": "code",
   "execution_count": 91,
   "metadata": {},
   "outputs": [],
   "source": [
    "# These functions will be used often to get columns of certain data types that are actually\n",
    "# in the dataframe\n",
    "\n",
    "def get_numeric_features(df, feature_df):\n",
    "    ordinal = list(feature_df.loc[feature_df['type'] == 'ordinal']['attribute'])\n",
    "    numeric = list(feature_df.loc[feature_df['type'] == 'numeric']['attribute'])\n",
    "    interval = list(feature_df.loc[feature_df['type'] == 'interval']['attribute'])\n",
    "    numeric_features = list(set(ordinal + numeric + interval).intersection(df.columns))\n",
    "    \n",
    "    return numeric_features\n",
    "\n",
    "def get_object_features(df, feature_df):\n",
    "    object_features = list(df.select_dtypes(include=['object']).columns)\n",
    "            \n",
    "    return object_features\n",
    "\n",
    "def get_categorical_features(df, feature_df):\n",
    "    \"\"\"\n",
    "    Returns categorical features \n",
    "    Excludes objects\n",
    "    All categories are already numerically encoded by design\n",
    "    \"\"\"\n",
    "    # All mixed features\n",
    "    mixed = list(feature_df.loc[feature_df['type'] == 'mixed']['attribute'])\n",
    "    # All categorical features\n",
    "    categorical = list(feature_df.loc[feature_df['type'] == 'categorical']['attribute'])\n",
    "    combined = mixed + categorical\n",
    "    categorical_features = list(set(combined) - set(get_object_features(df, feature_df)))\n",
    "    categorical_features_in_df = list(set(categorical_features).intersection(df.columns))                    \n",
    "    return categorical_features_in_df"
   ]
  },
  {
   "cell_type": "code",
   "execution_count": 92,
   "metadata": {},
   "outputs": [],
   "source": [
    "def clean_nulls(df, feature_df, fill_value=0, verbose=False):\n",
    "    clean_df = df.copy()\n",
    "    numeric = get_numeric_features(df, feature_df)\n",
    "    objects = get_object_features(df, feature_df)\n",
    "    categoric = get_categorical_features(df, feature_df)\n",
    "    \n",
    "    # replace nan with fill value\n",
    "    for col in [numeric, categoric]:\n",
    "        clean_df[col] = clean_df[col].fillna(fill_value)\n",
    "    \n",
    "    clean_df[objects] = clean_df[objects].fillna(str(fill_value))\n",
    "    \n",
    "    # Need to get rid of negative numbers for one hot encoding\n",
    "    clean_df[categoric] = clean_df[categoric].replace(to_replace=-1, value=fill_value)\n",
    "\n",
    "    if verbose:\n",
    "        print(\"Number of Nulls\")\n",
    "        print(\"Before Cleaning: {}\".format(df.isnull().sum().sum()))\n",
    "        print(\"After Cleaning: {}\".format(clean_df.isnull().sum().sum()))\n",
    "        \n",
    "    return clean_df"
   ]
  },
  {
   "cell_type": "markdown",
   "metadata": {},
   "source": [
    "### Step 1.3 Remove Columns \n",
    "This step should be done before encoding the categorical columns so that we don't end up with too many dummy variables?"
   ]
  },
  {
   "cell_type": "code",
   "execution_count": 93,
   "metadata": {},
   "outputs": [],
   "source": [
    " def drop_columns(df, columns_to_drop, verbose = False):\n",
    "    \"\"\"\n",
    "    Removes columns from a dataframe\n",
    "    \"\"\"\n",
    "    columns_removed = []\n",
    "    num_columns_removed = 0\n",
    "    for col in columns_to_drop:\n",
    "        if col in df.columns:\n",
    "            df.drop([col], axis = 1, inplace = True)\n",
    "            num_columns_removed += 1\n",
    "            columns_removed.append(col)\n",
    "    if verbose:\n",
    "        print('{} columns removed from dataframe'.format(num_columns_removed))\n",
    "        print('{}'.format(list(columns_removed)))\n",
    "    return df"
   ]
  },
  {
   "cell_type": "markdown",
   "metadata": {},
   "source": [
    "### Step 1.4: Select and Re-Encode Features\n",
    "\n",
    "Checking for missing data isn't the only way in which you can prepare a dataset for analysis. Since the unsupervised learning techniques to be used will only work on data that is encoded numerically, you need to make a few encoding changes or additional assumptions to be able to make progress. In addition, while almost all of the values in the dataset are encoded using numbers, not all of them represent numeric values. Check the third column of the feature summary (`feat_info`) for a summary of types of measurement.\n",
    "- For numeric and interval data, these features can be kept without changes.\n",
    "- Most of the variables in the dataset are ordinal in nature. While ordinal values may technically be non-linear in spacing, make the simplifying assumption that the ordinal variables can be treated as being interval in nature (that is, kept without any changes).\n",
    "- Special handling may be necessary for the remaining two variable types: categorical, and 'mixed'.\n",
    "\n",
    "In the first two parts of this sub-step, you will perform an investigation of the categorical and mixed-type features and make a decision on each of them, whether you will keep, drop, or re-encode each. Then, in the last part, you will create a new data frame with only the selected and engineered columns.\n",
    "\n",
    "Data wrangling is often the trickiest part of the data analysis process, and there's a lot of it to be done here. But stick with it: once you're done with this step, you'll be ready to get to the machine learning parts of the project!"
   ]
  },
  {
   "cell_type": "code",
   "execution_count": 94,
   "metadata": {},
   "outputs": [
    {
     "data": {
      "text/plain": [
       "ordinal        49\n",
       "categorical    21\n",
       "mixed           7\n",
       "numeric         7\n",
       "interval        1\n",
       "Name: type, dtype: int64"
      ]
     },
     "execution_count": 94,
     "metadata": {},
     "output_type": "execute_result"
    }
   ],
   "source": [
    "# How many features are there of each data type?\n",
    "feats['type'].value_counts()"
   ]
  },
  {
   "cell_type": "markdown",
   "metadata": {},
   "source": [
    "#### Step 1.4.1: Re-Encode Categorical Features\n",
    "\n",
    "For categorical data, you would ordinarily need to encode the levels as dummy variables. Depending on the number of categories, perform one of the following:\n",
    "- For binary (two-level) categoricals that take numeric values, you can keep them without needing to do anything.\n",
    "- There is one binary variable that takes on non-numeric values. For this one, you need to re-encode the values as numbers or create a dummy variable.\n",
    "- For multi-level categoricals (three or more values), you can choose to encode the values using multiple dummy variables (e.g. via [OneHotEncoder](http://scikit-learn.org/stable/modules/generated/sklearn.preprocessing.OneHotEncoder.html)), or (to keep things straightforward) just drop them from the analysis. As always, document your choices in the Discussion section."
   ]
  },
  {
   "cell_type": "code",
   "execution_count": 95,
   "metadata": {},
   "outputs": [],
   "source": [
    "# Assess categorical variables: which are binary, which are multi-level, and\n",
    "# which one needs to be re-encoded?\n",
    "\n"
   ]
  },
  {
   "cell_type": "code",
   "execution_count": 96,
   "metadata": {},
   "outputs": [],
   "source": [
    "def fit_and_encode_objects(df):\n",
    "    '''\n",
    "    Convert string categories into integers\n",
    "    fits and transforms\n",
    "    only use on training set for now\n",
    "    '''\n",
    "    global le_OST_WEST_KZ\n",
    "    le_OST_WEST_KZ = LabelEncoder()\n",
    "    if 'OST_WEST_KZ' in df.columns:\n",
    "        df['OST_WEST_KZ'] = le_OST_WEST_KZ.fit_transform(df['OST_WEST_KZ'])\n",
    "    \n",
    "    global le_CAMEO_DEUG_2015\n",
    "    le_CAMEO_DEUG_2015 = LabelEncoder()\n",
    "    if 'CAMEO_DEUG_2015' in df.columns:\n",
    "        df['CAMEO_DEUG_2015'] = le_CAMEO_DEUG_2015.fit_transform(df['CAMEO_DEUG_2015'])\n",
    "    \n",
    "    global le_CAMEO_DEU_2015\n",
    "    le_CAMEO_DEU_2015 = LabelEncoder()\n",
    "    if 'CAMEO_DEU_2015' in df.columns:\n",
    "        df['CAMEO_DEU_2015'] = le_CAMEO_DEU_2015.fit_transform(df['CAMEO_DEU_2015'])\n",
    "    \n",
    "    global le_CAMEO_INTL_2015\n",
    "    le_CAMEO_INTL_2015 = LabelEncoder()\n",
    "    if 'CAMEO_INTL_2015' in df.columns:\n",
    "        df['CAMEO_INTL_2015'] = le_CAMEO_INTL_2015.fit_transform(df['CAMEO_INTL_2015'])\n",
    "    return df"
   ]
  },
  {
   "cell_type": "code",
   "execution_count": 97,
   "metadata": {},
   "outputs": [],
   "source": [
    "def encode_objects(df):\n",
    "    '''\n",
    "    Convert string categories into integers\n",
    "    transforms\n",
    "    use on test sets\n",
    "    global encoder variables must be made before using\n",
    "    '''\n",
    "    if 'OST_WEST_KZ' in df.columns:\n",
    "        df['OST_WEST_KZ'] = le_OST_WEST_KZ.transform(df['OST_WEST_KZ'])\n",
    "    \n",
    "    if 'CAMEO_DEUG_2015' in df.columns:\n",
    "        df['CAMEO_DEUG_2015'] = le_CAMEO_DEUG_2015.transform(df['CAMEO_DEUG_2015'])\n",
    "    \n",
    "    if 'CAMEO_DEU_2015' in df.columns:\n",
    "        df['CAMEO_DEU_2015'] = le_CAMEO_DEU_2015.fit_transform(df['CAMEO_DEU_2015'])\n",
    "\n",
    "    if 'CAMEO_INTL_2015' in df.columns:\n",
    "        df['CAMEO_INTL_2015'] = le_CAMEO_INTL_2015.fit_transform(df['CAMEO_INTL_2015'])\n",
    "        \n",
    "    return df"
   ]
  },
  {
   "cell_type": "code",
   "execution_count": 98,
   "metadata": {},
   "outputs": [],
   "source": [
    "def one_hot_encode_categories(df, categories):\n",
    "    \"\"\"\n",
    "    One hot encodes arrays of integers\n",
    "    Returns an array of the encoded features\n",
    "    \"\"\"\n",
    "    global ohe\n",
    "    ohe = OneHotEncoder()\n",
    "    df_ohe = ohe.fit_transform(df[categories])\n",
    "    \n",
    "    return df_ohe"
   ]
  },
  {
   "cell_type": "code",
   "execution_count": 99,
   "metadata": {},
   "outputs": [],
   "source": [
    "def convert_to_dummies(df, categories):\n",
    "    \"\"\"\n",
    "    Makes dummies\n",
    "    Returns a dataframe with nice columns\n",
    "    \"\"\"\n",
    "    dummies = pd.DataFrame()\n",
    "    for cat in categories:\n",
    "        dummy = pd.get_dummies(df[cat], prefix = cat)\n",
    "        dummies = pd.concat([dummies, dummy], axis = 1)\n",
    "    \n",
    "    return dummies\n",
    "\n"
   ]
  },
  {
   "cell_type": "code",
   "execution_count": 100,
   "metadata": {},
   "outputs": [],
   "source": [
    "# Gonna have to pick one of these to use....\n",
    "# Get dummies has the category names, one hot encoding doesn't for some reason\n",
    "\n",
    "if not DEV_MODE:\n",
    "    tic = time.time()\n",
    "\n",
    "    categories = get_categorical_features(gen_clean, feats)\n",
    "    objects = get_object_features(gen_clean, feats)\n",
    "\n",
    "    gen_ohe = one_hot_encode_categories(gen_clean, categories + objects)\n",
    "    gen_dummies = convert_to_dummies(gen_clean,  categories + objects)\n",
    "\n",
    "    toc = time.time()\n",
    "    print('elapsed time {}'.format(toc-tic))"
   ]
  },
  {
   "cell_type": "markdown",
   "metadata": {},
   "source": [
    "#### Discussion 1.4.1: Re-Encode Categorical Features\n",
    "\n",
    "(Double-click this cell and replace this text with your own text, reporting your findings and decisions regarding categorical features. Which ones did you keep, which did you drop, and what engineering steps did you perform?)"
   ]
  },
  {
   "cell_type": "markdown",
   "metadata": {},
   "source": [
    "### Step 1.5: Remove Rows  \n",
    "This step is done after encoding the categorical features so that no encodings are lost."
   ]
  },
  {
   "cell_type": "code",
   "execution_count": 101,
   "metadata": {},
   "outputs": [],
   "source": [
    "def drop_rows(df, rows_to_drop):\n",
    "    \"\"\"\n",
    "    returns a slice of dataframe that excludes rows to drop\n",
    "    Note the ~ TILDE ~\n",
    "    \"\"\"\n",
    "    df = df.loc[~rows_to_drop]\n",
    "\n",
    "    return df"
   ]
  },
  {
   "cell_type": "markdown",
   "metadata": {},
   "source": [
    "### Step 1.6: Engineer Mixed-Type Features\n",
    "\n",
    "There are a handful of features that are marked as \"mixed\" in the feature summary that require special treatment in order to be included in the analysis. There are two in particular that deserve attention; the handling of the rest are up to your own choices:\n",
    "- \"PRAEGENDE_JUGENDJAHRE\" combines information on three dimensions: generation by decade, movement (mainstream vs. avantgarde), and nation (east vs. west). While there aren't enough levels to disentangle east from west, you should create two new variables to capture the other two dimensions: an interval-type variable for decade, and a binary variable for movement.\n",
    "- \"CAMEO_INTL_2015\" combines information on two axes: wealth and life stage. Break up the two-digit codes by their 'tens'-place and 'ones'-place digits into two new ordinal variables (which, for the purposes of this project, is equivalent to just treating them as their raw numeric values).\n",
    "- If you decide to keep or engineer new features around the other mixed-type features, make sure you note your steps in the Discussion section.\n",
    "\n",
    "Be sure to check `Data_Dictionary.md` for the details needed to finish these tasks."
   ]
  },
  {
   "cell_type": "markdown",
   "metadata": {},
   "source": [
    "PRAEGENDE_JUGENDJAHRE\n",
    "Dominating movement of person's youth (avantgarde vs. mainstream; east vs. west)\n",
    "- -1: unknown\n",
    "-  0: unknown\n",
    "-  1: 40s - war years (Mainstream, E+W)\n",
    "-  2: 40s - reconstruction years (Avantgarde, E+W)\n",
    "-  3: 50s - economic miracle (Mainstream, E+W)\n",
    "-  4: 50s - milk bar / Individualisation (Avantgarde, E+W)\n",
    "-  5: 60s - economic miracle (Mainstream, E+W)\n",
    "-  6: 60s - generation 68 / student protestors (Avantgarde, W)\n",
    "-  7: 60s - opponents to the building of the Wall (Avantgarde, E)\n",
    "-  8: 70s - family orientation (Mainstream, E+W)\n",
    "-  9: 70s - peace movement (Avantgarde, E+W)\n",
    "- 10: 80s - Generation Golf (Mainstream, W)\n",
    "- 11: 80s - ecological awareness (Avantgarde, W)\n",
    "- 12: 80s - FDJ / communist party youth organisation (Mainstream, E)\n",
    "- 13: 80s - Swords into ploughshares (Avantgarde, E)\n",
    "- 14: 90s - digital media kids (Mainstream, E+W)\n",
    "- 15: 90s - ecological awareness (Avantgarde, E+W)"
   ]
  },
  {
   "cell_type": "code",
   "execution_count": 102,
   "metadata": {},
   "outputs": [],
   "source": [
    "# Investigate \"PRAEGENDE_JUGENDJAHRE\" and engineer two new variables.\n",
    "if not DEV_MODE:\n",
    "    plt.hist(gen['PRAEGENDE_JUGENDJAHRE'], bins = list(np.sort(gen['PRAEGENDE_JUGENDJAHRE'].unique())))\n",
    "    plt.show()"
   ]
  },
  {
   "cell_type": "code",
   "execution_count": 103,
   "metadata": {},
   "outputs": [],
   "source": [
    "def engineer_PRAEGENDE_JUGENDJAHRE(df, feature_df):\n",
    "    unknown = [-1, 0]\n",
    "\n",
    "    mainstream = [1,3,5,8,10,12,14]\n",
    "    avantgarde = [2,4,6,7,9,11,13,15]\n",
    "    movements = [unknown, mainstream, avantgarde]\n",
    "    movement_dict = {}\n",
    "\n",
    "    forties = [1,2]\n",
    "    fifties = [3,4]\n",
    "    sixties = [5,6,7]\n",
    "    seventies = [8,9]\n",
    "    eighties = [10,11,12,13]\n",
    "    nineties = [14,15]\n",
    "    decades = [unknown, forties, fifties, sixties, seventies, eighties, nineties]\n",
    "    decade_dict = {}\n",
    "\n",
    "    for dictionary, feature in zip([decade_dict, movement_dict], [decades, movements]):\n",
    "        value = 0\n",
    "        for category in feature:\n",
    "            for key in category:\n",
    "                dictionary[key] = value\n",
    "            value +=1\n",
    "            \n",
    "    df['PRAEGENDE_JUGENDJAHRE_DECADE'] = df['PRAEGENDE_JUGENDJAHRE'].map(decade_dict)\n",
    "    df['PRAEGENDE_JUGENDJAHRE_MOVEMENT'] = df['PRAEGENDE_JUGENDJAHRE'].map(movement_dict)\n",
    "    \n",
    "    decade_row = feature_df.loc[feature_df['attribute'] == 'PRAEGENDE_JUGENDJAHRE'].copy()\n",
    "    decade_row['attribute'] = decade_row['attribute'] + '_DECADE'\n",
    "    decade_row['type'] = 'ordinal'\n",
    "    feature_df = feature_df.append(decade_row, ignore_index=True)\n",
    "\n",
    "    movement_row = feature_df.loc[feature_df['attribute'] == 'PRAEGENDE_JUGENDJAHRE'].copy()\n",
    "    movement_row['attribute'] = movement_row['attribute'] + '_MOVEMENT'\n",
    "    movement_row['type'] = 'categorical'\n",
    "    feature_df = feature_df.append(movement_row, ignore_index=True)\n",
    "    \n",
    "    return df, feature_df"
   ]
  },
  {
   "cell_type": "code",
   "execution_count": 104,
   "metadata": {},
   "outputs": [],
   "source": [
    "# Test engineer_PRAEGENDE_JUGENDJAHRE \n",
    "if not DEV_MODE:\n",
    "    df = gen_original.copy()\n",
    "    feature_df = feats.copy()\n",
    "    df, feature_df = engineer_PRAEGENDE_JUGENDJAHRE(df, feature_df)\n",
    "    print(df.columns)\n",
    "    feature_df.tail()"
   ]
  },
  {
   "cell_type": "code",
   "execution_count": 105,
   "metadata": {},
   "outputs": [],
   "source": [
    "if not DEV_MODE:\n",
    "    plt.hist(df['PRAEGENDE_JUGENDJAHRE_DECADE'], bins = list(np.sort(df['PRAEGENDE_JUGENDJAHRE_DECADE'].unique())))\n",
    "    plt.show()"
   ]
  },
  {
   "cell_type": "code",
   "execution_count": 106,
   "metadata": {},
   "outputs": [],
   "source": [
    "if not DEV_MODE:\n",
    "    plt.hist(df['PRAEGENDE_JUGENDJAHRE_MOVEMENT'], bins = list(np.sort(df['PRAEGENDE_JUGENDJAHRE_MOVEMENT'].unique())))\n",
    "    plt.show()"
   ]
  },
  {
   "cell_type": "markdown",
   "metadata": {},
   "source": [
    "# Investigate \"CAMEO_INTL_2015\" and engineer two new variables.\n",
    "CAMEO_INTL_2015\n",
    "German CAMEO: Wealth / Life Stage Typology, mapped to international code\n",
    "- -1: unknown\n",
    "- 11: Wealthy Households - Pre-Family Couples & Singles\n",
    "- 12: Wealthy Households - Young Couples With Children\n",
    "- 13: Wealthy Households - Families With School Age Children\n",
    "- 14: Wealthy Households - Older Families &  Mature Couples\n",
    "- 15: Wealthy Households - Elders In Retirement\n",
    "- 21: Prosperous Households - Pre-Family Couples & Singles\n",
    "- 22: Prosperous Households - Young Couples With Children\n",
    "- 23: Prosperous Households - Families With School Age Children\n",
    "- 24: Prosperous Households - Older Families & Mature Couples\n",
    "- 25: Prosperous Households - Elders In Retirement\n",
    "- 31: Comfortable Households - Pre-Family Couples & Singles\n",
    "- 32: Comfortable Households - Young Couples With Children\n",
    "- 33: Comfortable Households - Families With School Age Children\n",
    "- 34: Comfortable Households - Older Families & Mature Couples\n",
    "- 35: Comfortable Households - Elders In Retirement\n",
    "- 41: Less Affluent Households - Pre-Family Couples & Singles\n",
    "- 42: Less Affluent Households - Young Couples With Children\n",
    "- 43: Less Affluent Households - Families With School Age Children\n",
    "- 44: Less Affluent Households - Older Families & Mature Couples\n",
    "- 45: Less Affluent Households - Elders In Retirement\n",
    "- 51: Poorer Households - Pre-Family Couples & Singles\n",
    "- 52: Poorer Households - Young Couples With Children\n",
    "- 53: Poorer Households - Families With School Age Children\n",
    "- 54: Poorer Households - Older Families & Mature Couples\n",
    "- 55: Poorer Households - Elders In Retirement\n",
    "- XX: unknown\n"
   ]
  },
  {
   "cell_type": "code",
   "execution_count": 107,
   "metadata": {},
   "outputs": [],
   "source": [
    "def engineer_CAMEO_INTL_2015(df, feature_df):\n",
    "    unknown = ['-1', 'XX']\n",
    "    \n",
    "    wealthy = [str(i) for i in range(11,16)]\n",
    "    prosperous = [str(i) for i in range(21,26)]\n",
    "    comfortable = [str(i) for i in range(31,36)]\n",
    "    less_affluent = [str(i) for i in range(41,46)]\n",
    "    poorer = [str(i) for i in range(51,56)]\n",
    "    wealth = [unknown, wealthy, prosperous, comfortable, less_affluent, poorer]\n",
    "    wealth_dict = {}\n",
    "    \n",
    "    pre_family = [str(i*10 + 1) for i in range(1,6)]\n",
    "    young_couples = [str(i*10 + 2) for i in range(1,6)]\n",
    "    families = [str(i*10 + 3) for i in range(1,6)]\n",
    "    older_families = [str(i*10 + 4) for i in range(1,6)]\n",
    "    elders = [str(i*10 + 5) for i in range(1,6)]\n",
    "    life_stage = [unknown, pre_family, young_couples, families, older_families, elders]\n",
    "    life_stage_dict = {}\n",
    "\n",
    "    for dictionary, feature in zip([wealth_dict, life_stage_dict], [wealth, life_stage]):\n",
    "        value = 0\n",
    "        for category in feature:\n",
    "            for key in category:\n",
    "                dictionary[key] = value\n",
    "            value +=1\n",
    "            \n",
    "    df['CAMEO_INTL_2015_WEALTH'] = df['CAMEO_INTL_2015'].map(wealth_dict)\n",
    "    df['CAMEO_INTL_2015_LIFE_STAGE'] = df['CAMEO_INTL_2015'].map(life_stage_dict)\n",
    "    \n",
    "    wealth_row = feature_df.loc[feature_df['attribute'] == 'CAMEO_INTL_2015'].copy()\n",
    "    wealth_row['attribute'] = wealth_row['attribute'] + '_WEALTH'\n",
    "    wealth_row['type'] = 'ordinal'\n",
    "    feature_df = feature_df.append(wealth_row, ignore_index=True)\n",
    "\n",
    "    life_stage_row = feature_df.loc[feature_df['attribute'] == 'CAMEO_INTL_2015'].copy()\n",
    "    life_stage_row['attribute'] = life_stage_row['attribute'] + '_LIFE_STAGE'\n",
    "    life_stage_row['type'] = 'ordinal'\n",
    "    feature_df = feature_df.append(life_stage_row, ignore_index=True)\n",
    "    \n",
    "    return df, feature_df"
   ]
  },
  {
   "cell_type": "code",
   "execution_count": 108,
   "metadata": {},
   "outputs": [
    {
     "name": "stdout",
     "output_type": "stream",
     "text": [
      "Index(['AGER_TYP', 'ALTERSKATEGORIE_GROB', 'ANREDE_KZ', 'CJT_GESAMTTYP',\n",
      "       'FINANZ_MINIMALIST', 'FINANZ_SPARER', 'FINANZ_VORSORGER',\n",
      "       'FINANZ_ANLEGER', 'FINANZ_UNAUFFAELLIGER', 'FINANZ_HAUSBAUER',\n",
      "       'FINANZTYP', 'GEBURTSJAHR', 'GFK_URLAUBERTYP', 'GREEN_AVANTGARDE',\n",
      "       'HEALTH_TYP', 'LP_LEBENSPHASE_FEIN', 'LP_LEBENSPHASE_GROB',\n",
      "       'LP_FAMILIE_FEIN', 'LP_FAMILIE_GROB', 'LP_STATUS_FEIN',\n",
      "       'LP_STATUS_GROB', 'NATIONALITAET_KZ', 'PRAEGENDE_JUGENDJAHRE',\n",
      "       'RETOURTYP_BK_S', 'SEMIO_SOZ', 'SEMIO_FAM', 'SEMIO_REL', 'SEMIO_MAT',\n",
      "       'SEMIO_VERT', 'SEMIO_LUST', 'SEMIO_ERL', 'SEMIO_KULT', 'SEMIO_RAT',\n",
      "       'SEMIO_KRIT', 'SEMIO_DOM', 'SEMIO_KAEM', 'SEMIO_PFLICHT', 'SEMIO_TRADV',\n",
      "       'SHOPPER_TYP', 'SOHO_KZ', 'TITEL_KZ', 'VERS_TYP', 'ZABEOTYP',\n",
      "       'ALTER_HH', 'ANZ_PERSONEN', 'ANZ_TITEL', 'HH_EINKOMMEN_SCORE',\n",
      "       'KK_KUNDENTYP', 'W_KEIT_KIND_HH', 'WOHNDAUER_2008',\n",
      "       'ANZ_HAUSHALTE_AKTIV', 'ANZ_HH_TITEL', 'GEBAEUDETYP', 'KONSUMNAEHE',\n",
      "       'MIN_GEBAEUDEJAHR', 'OST_WEST_KZ', 'WOHNLAGE', 'CAMEO_DEUG_2015',\n",
      "       'CAMEO_DEU_2015', 'CAMEO_INTL_2015', 'KBA05_ANTG1', 'KBA05_ANTG2',\n",
      "       'KBA05_ANTG3', 'KBA05_ANTG4', 'KBA05_BAUMAX', 'KBA05_GBZ', 'BALLRAUM',\n",
      "       'EWDICHTE', 'INNENSTADT', 'GEBAEUDETYP_RASTER', 'KKK', 'MOBI_REGIO',\n",
      "       'ONLINE_AFFINITAET', 'REGIOTYP', 'KBA13_ANZAHL_PKW', 'PLZ8_ANTG1',\n",
      "       'PLZ8_ANTG2', 'PLZ8_ANTG3', 'PLZ8_ANTG4', 'PLZ8_BAUMAX', 'PLZ8_HHZ',\n",
      "       'PLZ8_GBZ', 'ARBEIT', 'ORTSGR_KLS9', 'RELAT_AB',\n",
      "       'CAMEO_INTL_2015_WEALTH', 'CAMEO_INTL_2015_LIFE_STAGE'],\n",
      "      dtype='object')\n"
     ]
    },
    {
     "data": {
      "text/html": [
       "<div>\n",
       "<style scoped>\n",
       "    .dataframe tbody tr th:only-of-type {\n",
       "        vertical-align: middle;\n",
       "    }\n",
       "\n",
       "    .dataframe tbody tr th {\n",
       "        vertical-align: top;\n",
       "    }\n",
       "\n",
       "    .dataframe thead th {\n",
       "        text-align: right;\n",
       "    }\n",
       "</style>\n",
       "<table border=\"1\" class=\"dataframe\">\n",
       "  <thead>\n",
       "    <tr style=\"text-align: right;\">\n",
       "      <th></th>\n",
       "      <th>attribute</th>\n",
       "      <th>information_level</th>\n",
       "      <th>type</th>\n",
       "      <th>missing_or_unknown</th>\n",
       "      <th>nulls</th>\n",
       "    </tr>\n",
       "  </thead>\n",
       "  <tbody>\n",
       "    <tr>\n",
       "      <th>82</th>\n",
       "      <td>ARBEIT</td>\n",
       "      <td>community</td>\n",
       "      <td>ordinal</td>\n",
       "      <td>[-1,9]</td>\n",
       "      <td>[-1, 9]</td>\n",
       "    </tr>\n",
       "    <tr>\n",
       "      <th>83</th>\n",
       "      <td>ORTSGR_KLS9</td>\n",
       "      <td>community</td>\n",
       "      <td>ordinal</td>\n",
       "      <td>[-1,0]</td>\n",
       "      <td>[-1, 0]</td>\n",
       "    </tr>\n",
       "    <tr>\n",
       "      <th>84</th>\n",
       "      <td>RELAT_AB</td>\n",
       "      <td>community</td>\n",
       "      <td>ordinal</td>\n",
       "      <td>[-1,9]</td>\n",
       "      <td>[-1, 9]</td>\n",
       "    </tr>\n",
       "    <tr>\n",
       "      <th>85</th>\n",
       "      <td>CAMEO_INTL_2015_WEALTH</td>\n",
       "      <td>microcell_rr4</td>\n",
       "      <td>ordinal</td>\n",
       "      <td>[-1,XX]</td>\n",
       "      <td>[-1, XX]</td>\n",
       "    </tr>\n",
       "    <tr>\n",
       "      <th>86</th>\n",
       "      <td>CAMEO_INTL_2015_LIFE_STAGE</td>\n",
       "      <td>microcell_rr4</td>\n",
       "      <td>ordinal</td>\n",
       "      <td>[-1,XX]</td>\n",
       "      <td>[-1, XX]</td>\n",
       "    </tr>\n",
       "  </tbody>\n",
       "</table>\n",
       "</div>"
      ],
      "text/plain": [
       "                     attribute information_level     type missing_or_unknown  \\\n",
       "82                      ARBEIT         community  ordinal             [-1,9]   \n",
       "83                 ORTSGR_KLS9         community  ordinal             [-1,0]   \n",
       "84                    RELAT_AB         community  ordinal             [-1,9]   \n",
       "85      CAMEO_INTL_2015_WEALTH     microcell_rr4  ordinal            [-1,XX]   \n",
       "86  CAMEO_INTL_2015_LIFE_STAGE     microcell_rr4  ordinal            [-1,XX]   \n",
       "\n",
       "       nulls  \n",
       "82   [-1, 9]  \n",
       "83   [-1, 0]  \n",
       "84   [-1, 9]  \n",
       "85  [-1, XX]  \n",
       "86  [-1, XX]  "
      ]
     },
     "execution_count": 108,
     "metadata": {},
     "output_type": "execute_result"
    }
   ],
   "source": [
    "# Test engineer_CAMEO_INTL_2015\n",
    "df = gen_original.copy()\n",
    "feature_df = feats.copy()\n",
    "\n",
    "df, feature_df = engineer_CAMEO_INTL_2015(df, feature_df)\n",
    "print(df.columns)\n",
    "feature_df.tail()"
   ]
  },
  {
   "cell_type": "code",
   "execution_count": 109,
   "metadata": {},
   "outputs": [],
   "source": [
    "if not DEV_MODE:\n",
    "    plt.hist(df['CAMEO_INTL_2015_WEALTH'].fillna(0), \n",
    "             bins=np.sort(df['CAMEO_INTL_2015_WEALTH'].fillna(0).unique()))"
   ]
  },
  {
   "cell_type": "code",
   "execution_count": 110,
   "metadata": {},
   "outputs": [],
   "source": [
    "if not DEV_MODE:\n",
    "    plt.hist(df['CAMEO_INTL_2015_LIFE_STAGE'].fillna(0), \n",
    "             bins=np.sort(df['CAMEO_INTL_2015_LIFE_STAGE'].fillna(0).unique()))"
   ]
  },
  {
   "cell_type": "markdown",
   "metadata": {},
   "source": [
    "#### Discussion 1.6.1: Engineer Mixed-Type Features\n",
    "\n",
    "(Double-click this cell and replace this text with your own text, reporting your findings and decisions regarding mixed-value features. Which ones did you keep, which did you drop, and what engineering steps did you perform?)"
   ]
  },
  {
   "cell_type": "markdown",
   "metadata": {},
   "source": [
    "### Step 1.7: Complete Feature Selection\n",
    "\n",
    "In order to finish this step up, you need to make sure that your data frame now only has the columns that you want to keep. To summarize, the dataframe should consist of the following:\n",
    "- All numeric, interval, and ordinal type columns from the original dataset.\n",
    "- Binary categorical features (all numerically-encoded).\n",
    "- Engineered features from other multi-level categorical features and mixed features.\n",
    "\n",
    "Make sure that for any new columns that you have engineered, that you've excluded the original columns from the final dataset. Otherwise, their values will interfere with the analysis later on the project. For example, you should not keep \"PRAEGENDE_JUGENDJAHRE\", since its values won't be useful for the algorithm: only the values derived from it in the engineered features you created should be retained. As a reminder, your data should only be from **the subset with few or no missing values**."
   ]
  },
  {
   "cell_type": "code",
   "execution_count": 111,
   "metadata": {},
   "outputs": [],
   "source": [
    "# If there are other re-engineering tasks you need to perform, make sure you\n",
    "# take care of them here. (Dealing with missing data will come in step 2.1.)\n",
    "\n",
    "def feature_selection(df):\n",
    "    \"\"\"\n",
    "    So far this function doesn't do much\n",
    "    \"\"\"\n",
    "    return df"
   ]
  },
  {
   "cell_type": "code",
   "execution_count": 112,
   "metadata": {},
   "outputs": [],
   "source": [
    "# Do whatever you need to in order to ensure that the dataframe only contains\n",
    "# the columns that should be passed to the algorithm functions.\n",
    "\n"
   ]
  },
  {
   "cell_type": "markdown",
   "metadata": {},
   "source": [
    "### Step 1.8: Create a Cleaning Function\n",
    "\n",
    "Even though you've finished cleaning up the general population demographics data, it's important to look ahead to the future and realize that you'll need to perform the same cleaning steps on the customer demographics data. In this substep, complete the function below to execute the main feature selection, encoding, and re-engineering steps you performed above. Then, when it comes to looking at the customer data in Step 3, you can just run this function on that DataFrame to get the trimmed dataset in a single step."
   ]
  },
  {
   "cell_type": "code",
   "execution_count": 113,
   "metadata": {},
   "outputs": [],
   "source": [
    "def clean_data(df, feature_df, \n",
    "               col_null_percentage_threshold=100, columns_to_drop=[],\n",
    "               row_null_percentage_threshold=None, row_null_percentile=None,\n",
    "               use_ohe=False, fit=False, verbose=False):\n",
    "    \"\"\"\n",
    "    Perform feature trimming, re-encoding, and engineering for demographics\n",
    "    data\n",
    "    \n",
    "    INPUT: Demographics DataFrame\n",
    "    OUTPUT: Trimmed and cleaned demographics DataFrame\n",
    "    \"\"\"\n",
    "    \n",
    "    # Engineer Features:\n",
    "    df, feature_df = engineer_PRAEGENDE_JUGENDJAHRE(df, feature_df)\n",
    "    df, feature_df = engineer_CAMEO_INTL_2015(df, feature_df)\n",
    "    \n",
    "    # convert missing value codes into NaNs, ...\n",
    "    df = convert_values_to_nan(df, feature_df)\n",
    "    \n",
    "    # Calculate rows and columns to drop based on null values\n",
    "    if fit:\n",
    "        columns_to_drop = get_columns_to_drop(df, col_null_percentage_threshold)\n",
    "        columns_to_drop += ['PRAEGENDE_JUGENDJAHRE', 'CAMEO_INTL_2015']\n",
    "\n",
    "    rows_to_drop, _, _ = get_rows_to_drop(df, row_null_percentage_threshold,\n",
    "                                          row_null_percentile, verbose=verbose)\n",
    "    \n",
    "    # Cleaning nulls\n",
    "    df = clean_nulls(df, feature_df, fill_value=0, verbose=verbose)\n",
    "    \n",
    "    # remove selected columns and rows, ...\n",
    "    df = drop_columns(df, columns_to_drop, verbose=verbose)\n",
    "    \n",
    "    # select, re-encode, column values.\n",
    "    if fit:\n",
    "        df = fit_and_encode_objects(df)\n",
    "    else:\n",
    "        df = encode_objects(df)\n",
    "    \n",
    "    categoricals = get_categorical_features(df, feature_df)\n",
    "    objects = get_object_features(df, feature_df)\n",
    "    numerics = get_numeric_features(df, feature_df)\n",
    "    categories = categoricals + objects\n",
    "    \n",
    "    if use_ohe:\n",
    "        df_cat = one_hot_encode_categories(df, categories)\n",
    "    else:\n",
    "        df_cat = convert_to_dummies(df, categories)\n",
    "    \n",
    "    df = pd.concat([df[numerics], df_cat], axis=1)\n",
    "    \n",
    "    # Remove selected rows\n",
    "    df = drop_rows(df, rows_to_drop)\n",
    "    # Return the cleaned dataframe.\n",
    "    \n",
    "    if verbose:\n",
    "        print('Shape of cleaned dataframe: {}'.format(df.shape))\n",
    "        print('Number of null values in cleaned dataframe: {}'\n",
    "              .format(df.isnull().sum().sum()))\n",
    "        print('Shape of appended feature summary: {}'.format(feature_df.shape))\n",
    "    \n",
    "    return df, feature_df\n",
    "    "
   ]
  },
  {
   "cell_type": "code",
   "execution_count": 114,
   "metadata": {},
   "outputs": [
    {
     "name": "stdout",
     "output_type": "stream",
     "text": [
      "In rows_to_drop: \n",
      "Percentile of rows below threshold: 88.1\n",
      "Threshold: 20.0\n",
      "Number of Nulls\n",
      "Before Cleaning: 8788215\n",
      "After Cleaning: 0\n",
      "8 columns removed from dataframe\n",
      "['KK_KUNDENTYP', 'GEBURTSJAHR', 'ALTER_HH', 'TITEL_KZ', 'KBA05_BAUMAX', 'AGER_TYP', 'PRAEGENDE_JUGENDJAHRE', 'CAMEO_INTL_2015']\n",
      "Shape of cleaned dataframe: (784776, 279)\n",
      "Number of null values in cleaned dataframe: 0\n",
      "Shape of appended feature summary: (89, 5)\n",
      "Time Elapsed cleaning data: 97 seconds\n"
     ]
    }
   ],
   "source": [
    "tic = time.time()\n",
    "gen_cleaned = gen_original.copy()\n",
    "feats_appended = feats.copy()\n",
    "\n",
    "gen_cleaned, feats_appended = clean_data(gen_cleaned, feats_appended, \n",
    "                                         col_null_percentage_threshold=20,\n",
    "                                         row_null_percentage_threshold=20, \n",
    "                                         row_null_percentile=None,\n",
    "                                         use_ohe=False, fit=True, \n",
    "                                         verbose=True)\n",
    "toc = time.time()\n",
    "\n",
    "print('Time Elapsed cleaning data: {:.0f} seconds'.format((toc-tic)))"
   ]
  },
  {
   "cell_type": "markdown",
   "metadata": {},
   "source": [
    "## Step 2: Feature Transformation\n",
    "\n",
    "### Step 2.1: Apply Feature Scaling\n",
    "\n",
    "Before we apply dimensionality reduction techniques to the data, we need to perform feature scaling so that the principal component vectors are not influenced by the natural differences in scale for features. Starting from this part of the project, you'll want to keep an eye on the [API reference page for sklearn](http://scikit-learn.org/stable/modules/classes.html) to help you navigate to all of the classes and functions that you'll need. In this substep, you'll need to check the following:\n",
    "\n",
    "- sklearn requires that data not have missing values in order for its estimators to work properly. So, before applying the scaler to your data, make sure that you've cleaned the DataFrame of the remaining missing values. This can be as simple as just removing all data points with missing data, or applying an [Imputer](http://scikit-learn.org/stable/modules/generated/sklearn.preprocessing.Imputer.html) to replace all missing values. You might also try a more complicated procedure where you temporarily remove missing values in order to compute the scaling parameters before re-introducing those missing values and applying imputation. Think about how much missing data you have and what possible effects each approach might have on your analysis, and justify your decision in the discussion section below.\n",
    "- For the actual scaling function, a [StandardScaler](http://scikit-learn.org/stable/modules/generated/sklearn.preprocessing.StandardScaler.html) instance is suggested, scaling each feature to mean 0 and standard deviation 1.\n",
    "- For these classes, you can make use of the `.fit_transform()` method to both fit a procedure to the data as well as apply the transformation to the data at the same time. Don't forget to keep the fit sklearn objects handy, since you'll be applying them to the customer demographics data towards the end of the project."
   ]
  },
  {
   "cell_type": "code",
   "execution_count": 115,
   "metadata": {},
   "outputs": [],
   "source": [
    "# If you've not yet cleaned the dataset of all NaN values, then investigate and\n",
    "# do that now.\n",
    "\n"
   ]
  },
  {
   "cell_type": "code",
   "execution_count": 116,
   "metadata": {},
   "outputs": [],
   "source": [
    "# Apply feature scaling to the general population demographics data.\n",
    "scaler = StandardScaler()\n",
    "gen_scaled = scaler.fit_transform(gen_cleaned)"
   ]
  },
  {
   "cell_type": "markdown",
   "metadata": {},
   "source": [
    "### Discussion 2.1: Apply Feature Scaling\n",
    "\n",
    "(Double-click this cell and replace this text with your own text, reporting your decisions regarding feature scaling.)"
   ]
  },
  {
   "cell_type": "markdown",
   "metadata": {},
   "source": [
    "### Step 2.2: Perform Dimensionality Reduction\n",
    "\n",
    "On your scaled data, you are now ready to apply dimensionality reduction techniques.\n",
    "\n",
    "- Use sklearn's [PCA](http://scikit-learn.org/stable/modules/generated/sklearn.decomposition.PCA.html) class to apply principal component analysis on the data, thus finding the vectors of maximal variance in the data. To start, you should not set any parameters (so all components are computed) or set a number of components that is at least half the number of features (so there's enough features to see the general trend in variability).\n",
    "- Check out the ratio of variance explained by each principal component as well as the cumulative variance explained. Try plotting the cumulative or sequential values using matplotlib's [`plot()`](https://matplotlib.org/api/_as_gen/matplotlib.pyplot.plot.html) function. Based on what you find, select a value for the number of transformed features you'll retain for the clustering part of the project.\n",
    "- Once you've made a choice for the number of components to keep, make sure you re-fit a PCA instance to perform the decided-on transformation."
   ]
  },
  {
   "cell_type": "code",
   "execution_count": 117,
   "metadata": {},
   "outputs": [],
   "source": [
    "# Apply PCA to the data.\n",
    "if not DEV_MODE:\n",
    "    tic = time.time()\n",
    "    pca = PCA()\n",
    "    pca.fit(gen_scaled)\n",
    "    toc = time.time()\n",
    "    print('Time elapsed fitting the PCA: {}'.format(toc-tic))"
   ]
  },
  {
   "cell_type": "code",
   "execution_count": 118,
   "metadata": {},
   "outputs": [],
   "source": [
    "# Investigate the variance accounted for by each principal component.\n",
    "if not DEV_MODE:\n",
    "    pca_variance = pca.explained_variance_ratio_\n",
    "    plt.plot(pca_variance)\n",
    "    plt.show()"
   ]
  },
  {
   "cell_type": "code",
   "execution_count": 119,
   "metadata": {},
   "outputs": [],
   "source": [
    "if not DEV_MODE:\n",
    "    plt.plot(pca_variance)\n",
    "    plt.xlim(0,50)\n",
    "    plt.show()"
   ]
  },
  {
   "cell_type": "code",
   "execution_count": 120,
   "metadata": {},
   "outputs": [
    {
     "name": "stdout",
     "output_type": "stream",
     "text": [
      "Time elapsed re-fitting the PCA: 97.2\n",
      "The shape of the pca transformed dataset\n",
      "(784776, 15)\n"
     ]
    }
   ],
   "source": [
    "# Re-apply PCA to the data while selecting for number of components to retain.\n",
    "# Transform the data\n",
    "N_COMPONENTS=15\n",
    "\n",
    "tic = time.time()\n",
    "pca = PCA(n_components=N_COMPONENTS)\n",
    "gen_pca = pca.fit_transform(gen_scaled)\n",
    "toc = time.time()\n",
    "print('Time elapsed re-fitting the PCA: {:.1f}'.format(toc-tic))\n",
    "print('The shape of the pca transformed dataset')\n",
    "print(gen_pca.shape)"
   ]
  },
  {
   "cell_type": "markdown",
   "metadata": {},
   "source": [
    "### Discussion 2.2: Perform Dimensionality Reduction\n",
    "\n",
    "(Double-click this cell and replace this text with your own text, reporting your findings and decisions regarding dimensionality reduction. How many principal components / transformed features are you retaining for the next step of the analysis?)"
   ]
  },
  {
   "cell_type": "markdown",
   "metadata": {},
   "source": [
    "### Step 2.3: Interpret Principal Components\n",
    "\n",
    "Now that we have our transformed principal components, it's a nice idea to check out the weight of each variable on the first few components to see if they can be interpreted in some fashion.\n",
    "\n",
    "As a reminder, each principal component is a unit vector that points in the direction of highest variance (after accounting for the variance captured by earlier principal components). The further a weight is from zero, the more the principal component is in the direction of the corresponding feature. If two features have large weights of the same sign (both positive or both negative), then increases in one tend expect to be associated with increases in the other. To contrast, features with different signs can be expected to show a negative correlation: increases in one variable should result in a decrease in the other.\n",
    "\n",
    "- To investigate the features, you should map each weight to their corresponding feature name, then sort the features according to weight. The most interesting features for each principal component, then, will be those at the beginning and end of the sorted list. Use the data dictionary document to help you understand these most prominent features, their relationships, and what a positive or negative value on the principal component might indicate.\n",
    "- You should investigate and interpret feature associations from the first three principal components in this substep. To help facilitate this, you should write a function that you can call at any time to print the sorted list of feature weights, for the *i*-th principal component. This might come in handy in the next step of the project, when you interpret the tendencies of the discovered clusters."
   ]
  },
  {
   "cell_type": "code",
   "execution_count": 121,
   "metadata": {},
   "outputs": [],
   "source": [
    "# Map weights for the first principal component to corresponding feature names\n",
    "# and then print the linked values, sorted by weight.\n",
    "# HINT: Try defining a function here or in a new cell that you can reuse in the\n",
    "# other cells.\n",
    "\n",
    "def map_pca_weights(pca, column_index, component, n_weights, plot=False):\n",
    "    \"\"\"\n",
    "    Input: fitted pca, an index of the columns, the pca component, \n",
    "    the number of weights to return, and whether or not to make a bar plot\n",
    "    Returns: a dataframe of weights sorted by absolute value\n",
    "    \"\"\"\n",
    "    component -=1\n",
    "    d = {'weight':pca.components_[component]}\n",
    "    weights =pd.DataFrame(d, index = column_index)\n",
    "    weights = weights.reindex(weights.weight.abs().sort_values(ascending=False).index)\n",
    "    weights = weights.iloc[:n_weights]\n",
    "    if plot:\n",
    "        plt.bar(range(len(weights)), weights['weight'])\n",
    "        plt.xticks(range(len(weights)), list(weights.index), rotation=35, ha='right')\n",
    "        plt.ylabel('weight')\n",
    "        title = 'Weights of principal component: #' + str(component+1)\n",
    "        plt.title(title)\n",
    "        plt.show()\n",
    "    \n",
    "    return weights"
   ]
  },
  {
   "cell_type": "code",
   "execution_count": 122,
   "metadata": {},
   "outputs": [],
   "source": [
    "if not DEV_MODE:\n",
    "    map_pca_weights(pca, gen_cleaned.columns, component=1, n_weights=6, plot=False)"
   ]
  },
  {
   "cell_type": "code",
   "execution_count": 123,
   "metadata": {},
   "outputs": [],
   "source": [
    "# Map weights for the second principal component to corresponding feature names\n",
    "# and then print the linked values, sorted by weight.\n",
    "if not DEV_MODE:\n",
    "    map_pca_weights(pca, gen_cleaned.columns, component=2, n_weights=6, plot=False)"
   ]
  },
  {
   "cell_type": "code",
   "execution_count": 124,
   "metadata": {},
   "outputs": [],
   "source": [
    "# Map weights for the third principal component to corresponding feature names\n",
    "# and then print the linked values, sorted by weight.\n",
    "if not DEV_MODE:\n",
    "    map_pca_weights(pca, gen_cleaned.columns, component=3, n_weights=6, plot=False)"
   ]
  },
  {
   "cell_type": "markdown",
   "metadata": {},
   "source": [
    "### Discussion 2.3: Interpret Principal Components\n",
    "\n",
    "(Double-click this cell and replace this text with your own text, reporting your observations from detailed investigation of the first few principal components generated. Can we interpret positive and negative values from them in a meaningful way?)"
   ]
  },
  {
   "cell_type": "markdown",
   "metadata": {},
   "source": [
    "## Step 3: Clustering\n",
    "\n",
    "### Step 3.1: Apply Clustering to General Population\n",
    "\n",
    "You've assessed and cleaned the demographics data, then scaled and transformed them. Now, it's time to see how the data clusters in the principal components space. In this substep, you will apply k-means clustering to the dataset and use the average within-cluster distances from each point to their assigned cluster's centroid to decide on a number of clusters to keep.\n",
    "\n",
    "- Use sklearn's [KMeans](http://scikit-learn.org/stable/modules/generated/sklearn.cluster.KMeans.html#sklearn.cluster.KMeans) class to perform k-means clustering on the PCA-transformed data.\n",
    "- Then, compute the average difference from each point to its assigned cluster's center. **Hint**: The KMeans object's `.score()` method might be useful here, but note that in sklearn, scores tend to be defined so that larger is better. Try applying it to a small, toy dataset, or use an internet search to help your understanding.\n",
    "- Perform the above two steps for a number of different cluster counts. You can then see how the average distance decreases with an increasing number of clusters. However, each additional cluster provides a smaller net benefit. Use this fact to select a final number of clusters in which to group the data. **Warning**: because of the large size of the dataset, it can take a long time for the algorithm to resolve. The more clusters to fit, the longer the algorithm will take. You should test for cluster counts through at least 10 clusters to get the full picture, but you shouldn't need to test for a number of clusters above about 30.\n",
    "- Once you've selected a final number of clusters to use, re-fit a KMeans instance to perform the clustering operation. Make sure that you also obtain the cluster assignments for the general demographics data, since you'll be using them in the final Step 3.3."
   ]
  },
  {
   "cell_type": "code",
   "execution_count": 126,
   "metadata": {},
   "outputs": [],
   "source": [
    "def get_average_within_cluster_distance(distances, labels):\n",
    "    label_distances = []\n",
    "    for row, label in enumerate(labels):\n",
    "        label_distance = distances[row, label]\n",
    "        label_distances.append(label_distance)\n",
    "    \n",
    "    mean_distance = np.mean(label_distances)\n",
    "\n",
    "    return mean_distance"
   ]
  },
  {
   "cell_type": "code",
   "execution_count": 127,
   "metadata": {},
   "outputs": [],
   "source": [
    "def evaluate_n_clusters(x, cluster_range, verbose=False):\n",
    "    scores = []\n",
    "    average_within_cluster_distances = []\n",
    "    for n_clusters in cluster_range:\n",
    "        tic = time.time()\n",
    "        km = KMeans(n_clusters=n_clusters, n_jobs=-1, random_state=42)\n",
    "        km.fit_predict(x)\n",
    "        score = km.score(sample)\n",
    "        labels =  km.fit_predict(x)\n",
    "        distances = km.transform(x)\n",
    "        average_within_cluster_distance = get_average_within_cluster_distance(distances, labels)\n",
    "        average_within_cluster_distances.append(average_within_cluster_distance)\n",
    "        scores.append(score)\n",
    "        toc = time.time()\n",
    "        if verbose:\n",
    "            print('n_clusters: {}, Score: {:.1f}, Average within-cluster distance: {:.1f}, Time: {:.1f}'\n",
    "                  .format(n_clusters, score, average_within_cluster_distance, toc-tic))\n",
    "        \n",
    "        \n",
    "    return scores, average_within_cluster_distances\n",
    "\n",
    "if not DEV_MODE:\n",
    "    # Get a sample to speed up cluster exploration\n",
    "    sample_proportion = 0.1\n",
    "    sample = gen_pca[:int(gen_pca.shape[0]*sample_proportion)]\n",
    "    print('Sample Shape: {}'.format(sample.shape))\n",
    "    scores, average_within_cluster_distances = evaluate_n_clusters(sample, range(1,31), verbose=True)"
   ]
  },
  {
   "cell_type": "code",
   "execution_count": 128,
   "metadata": {},
   "outputs": [],
   "source": [
    "if not DEV_MODE:\n",
    "    plt.plot(range(1,len(scores)+1), scores)"
   ]
  },
  {
   "cell_type": "code",
   "execution_count": 129,
   "metadata": {},
   "outputs": [],
   "source": [
    "if not DEV_MODE:\n",
    "    plt.plot(range(1,len(average_within_cluster_distances)+1), average_within_cluster_distances)"
   ]
  },
  {
   "cell_type": "code",
   "execution_count": 130,
   "metadata": {},
   "outputs": [],
   "source": [
    "# Over a number of different cluster counts...\n",
    "\n",
    "\n",
    "    # run k-means clustering on the data and...\n",
    "    \n",
    "    \n",
    "    # compute the average within-cluster distances.\n",
    "    \n",
    "    "
   ]
  },
  {
   "cell_type": "code",
   "execution_count": 131,
   "metadata": {},
   "outputs": [],
   "source": [
    "# Investigate the change in within-cluster distance across number of clusters.\n",
    "# HINT: Use matplotlib's plot function to visualize this relationship.\n",
    "\n"
   ]
  },
  {
   "cell_type": "code",
   "execution_count": 132,
   "metadata": {},
   "outputs": [],
   "source": [
    "# Re-fit the k-means model with the selected number of clusters and obtain\n",
    "# cluster predictions for the general population demographics data.\n",
    "%%time\n",
    "N_CLUSTERS = 20\n",
    "km = KMeans(n_clusters=N_CLUSTERS, random_state=42)\n",
    "gen_clusters = km.fit_predict(gen_pca)"
   ]
  },
  {
   "cell_type": "markdown",
   "metadata": {},
   "source": [
    "### Discussion 3.1: Apply Clustering to General Population\n",
    "\n",
    "(Double-click this cell and replace this text with your own text, reporting your findings and decisions regarding clustering. Into how many clusters have you decided to segment the population?)"
   ]
  },
  {
   "cell_type": "markdown",
   "metadata": {},
   "source": [
    "### Step 3.2: Apply All Steps to the Customer Data\n",
    "\n",
    "Now that you have clusters and cluster centers for the general population, it's time to see how the customer data maps on to those clusters. Take care to not confuse this for re-fitting all of the models to the customer data. Instead, you're going to use the fits from the general population to clean, transform, and cluster the customer data. In the last step of the project, you will interpret how the general population fits apply to the customer data.\n",
    "\n",
    "- Don't forget when loading in the customers data, that it is semicolon (`;`) delimited.\n",
    "- Apply the same feature wrangling, selection, and engineering steps to the customer demographics using the `clean_data()` function you created earlier. (You can assume that the customer demographics data has similar meaning behind missing data patterns as the general demographics data.)\n",
    "- Use the sklearn objects from the general demographics data, and apply their transformations to the customers data. That is, you should not be using a `.fit()` or `.fit_transform()` method to re-fit the old objects, nor should you be creating new sklearn objects! Carry the data through the feature scaling, PCA, and clustering steps, obtaining cluster assignments for all of the data in the customer demographics data."
   ]
  },
  {
   "cell_type": "code",
   "execution_count": 133,
   "metadata": {},
   "outputs": [],
   "source": [
    "# Load in the customer demographics data.\n",
    "\n",
    "customers = pd.read_csv('Udacity_CUSTOMERS_Subset.csv', delimiter=';')"
   ]
  },
  {
   "cell_type": "code",
   "execution_count": 134,
   "metadata": {},
   "outputs": [],
   "source": [
    "def resolve_df_shapes(train, test, null_value = 0):\n",
    "    \"\"\"\n",
    "    https://stackoverflow.com/questions/41335718/keep-same-dummy-variable-in-training-and-testing-data\n",
    "    \"\"\"\n",
    "    # Get missing columns in the training test\n",
    "    missing_cols = set(train.columns) - set(test.columns)\n",
    "    # Add a missing column in test set with default value equal to 0\n",
    "    for c in missing_cols:\n",
    "        test[c] = null_value\n",
    "    # Ensure the order of column in the test set is in the same order than in train set\n",
    "    test = test[train.columns]\n",
    "    \n",
    "    return test"
   ]
  },
  {
   "cell_type": "code",
   "execution_count": 136,
   "metadata": {},
   "outputs": [
    {
     "name": "stdout",
     "output_type": "stream",
     "text": [
      "In rows_to_drop: \n",
      "Percentile of rows below threshold: 73.1\n",
      "Threshold: 20.0\n",
      "Number of Nulls\n",
      "Before Cleaning: 3310748\n",
      "After Cleaning: 0\n",
      "0 columns removed from dataframe\n",
      "[]\n",
      "Shape of cleaned dataframe: (140105, 340)\n",
      "Number of null values in cleaned dataframe: 0\n",
      "Shape of appended feature summary: (89, 5)\n",
      "After resolving shapes, cust_cleaned shape (140105, 279)\n",
      "Time Elapsed cleaning data: 19 seconds\n"
     ]
    }
   ],
   "source": [
    "# Apply preprocessing, feature transformation, and clustering from the general\n",
    "# demographics onto the customer data, obtaining cluster predictions for the\n",
    "# customer demographics data.\n",
    "\n",
    "tic = time.time()\n",
    "cust_cleaned = customers.copy()\n",
    "cust_feats_appended = feats.copy()\n",
    "\n",
    "cust_cleaned, appended_cust_feature_df = clean_data(cust_cleaned, cust_feats_appended, \n",
    "                                                    row_null_percentage_threshold=20, \n",
    "                                                    row_null_percentile=None,\n",
    "                                                    use_ohe=False, fit=False, \n",
    "                                                       verbose=True)\n",
    "\n",
    "cust_cleaned = resolve_df_shapes(gen_cleaned, cust_cleaned)\n",
    "print(\"cust_cleaned shape after shape resolution: {}\".format(cust_cleaned.shape))\n",
    "\n",
    "cust_scaled = scaler.transform(cust_cleaned)\n",
    "cust_pca = pca.transform(cust_scaled)\n",
    "cust_cluster = km.predict(cust_pca)\n",
    "toc = time.time()\n",
    "\n",
    "print('Time Elapsed cleaning data: {:.0f} seconds'.format((toc-tic)))"
   ]
  },
  {
   "cell_type": "markdown",
   "metadata": {},
   "source": [
    "### Step 3.3: Compare Customer Data to Demographics Data\n",
    "\n",
    "At this point, you have clustered data based on demographics of the general population of Germany, and seen how the customer data for a mail-order sales company maps onto those demographic clusters. In this final substep, you will compare the two cluster distributions to see where the strongest customer base for the company is.\n",
    "\n",
    "Consider the proportion of persons in each cluster for the general population, and the proportions for the customers. If we think the company's customer base to be universal, then the cluster assignment proportions should be fairly similar between the two. If there are only particular segments of the population that are interested in the company's products, then we should see a mismatch from one to the other. If there is a higher proportion of persons in a cluster for the customer data compared to the general population (e.g. 5% of persons are assigned to a cluster for the general population, but 15% of the customer data is closest to that cluster's centroid) then that suggests the people in that cluster to be a target audience for the company. On the other hand, the proportion of the data in a cluster being larger in the general population than the customer data (e.g. only 2% of customers closest to a population centroid that captures 6% of the data) suggests that group of persons to be outside of the target demographics.\n",
    "\n",
    "Take a look at the following points in this step:\n",
    "\n",
    "- Compute the proportion of data points in each cluster for the general population and the customer data. Visualizations will be useful here: both for the individual dataset proportions, but also to visualize the ratios in cluster representation between groups. Seaborn's [`countplot()`](https://seaborn.pydata.org/generated/seaborn.countplot.html) or [`barplot()`](https://seaborn.pydata.org/generated/seaborn.barplot.html) function could be handy.\n",
    "  - Recall the analysis you performed in step 1.1.3 of the project, where you separated out certain data points from the dataset if they had more than a specified threshold of missing values. If you found that this group was qualitatively different from the main bulk of the data, you should treat this as an additional data cluster in this analysis. Make sure that you account for the number of data points in this subset, for both the general population and customer datasets, when making your computations!\n",
    "- Which cluster or clusters are overrepresented in the customer dataset compared to the general population? Select at least one such cluster and infer what kind of people might be represented by that cluster. Use the principal component interpretations from step 2.3 or look at additional components to help you make this inference. Alternatively, you can use the `.inverse_transform()` method of the PCA and StandardScaler objects to transform centroids back to the original data space and interpret the retrieved values directly.\n",
    "- Perform a similar investigation for the underrepresented clusters. Which cluster or clusters are underrepresented in the customer dataset compared to the general population, and what kinds of people are typified by these clusters?"
   ]
  },
  {
   "cell_type": "code",
   "execution_count": null,
   "metadata": {},
   "outputs": [],
   "source": [
    "# Compare the proportion of data in each cluster for the customer data to the\n",
    "# proportion of data in each cluster for the general population.\n",
    "\n"
   ]
  },
  {
   "cell_type": "code",
   "execution_count": null,
   "metadata": {},
   "outputs": [],
   "source": [
    "# What kinds of people are part of a cluster that is overrepresented in the\n",
    "# customer data compared to the general population?\n",
    "\n"
   ]
  },
  {
   "cell_type": "code",
   "execution_count": null,
   "metadata": {},
   "outputs": [],
   "source": [
    "# What kinds of people are part of a cluster that is underrepresented in the\n",
    "# customer data compared to the general population?\n",
    "\n"
   ]
  },
  {
   "cell_type": "markdown",
   "metadata": {},
   "source": [
    "### Discussion 3.3: Compare Customer Data to Demographics Data\n",
    "\n",
    "(Double-click this cell and replace this text with your own text, reporting findings and conclusions from the clustering analysis. Can we describe segments of the population that are relatively popular with the mail-order company, or relatively unpopular with the company?)"
   ]
  },
  {
   "cell_type": "markdown",
   "metadata": {},
   "source": [
    "> Congratulations on making it this far in the project! Before you finish, make sure to check through the entire notebook from top to bottom to make sure that your analysis follows a logical flow and all of your findings are documented in **Discussion** cells. Once you've checked over all of your work, you should export the notebook as an HTML document to submit for evaluation. You can do this from the menu, navigating to **File -> Download as -> HTML (.html)**. You will submit both that document and this notebook for your project submission."
   ]
  },
  {
   "cell_type": "code",
   "execution_count": null,
   "metadata": {},
   "outputs": [],
   "source": [
    "notebook_toc = time.time()\n",
    "print('It took {:.1f} minutes to run the whole notebook'.format((notebook_toc-notebook_tic)/60))"
   ]
  }
 ],
 "metadata": {
  "kernelspec": {
   "display_name": "Python 3",
   "language": "python",
   "name": "python3"
  },
  "language_info": {
   "codemirror_mode": {
    "name": "ipython",
    "version": 3
   },
   "file_extension": ".py",
   "mimetype": "text/x-python",
   "name": "python",
   "nbconvert_exporter": "python",
   "pygments_lexer": "ipython3",
   "version": "3.6.3"
  }
 },
 "nbformat": 4,
 "nbformat_minor": 2
}
